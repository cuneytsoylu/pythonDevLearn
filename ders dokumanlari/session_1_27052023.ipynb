{
 "cells": [
  {
   "attachments": {},
   "cell_type": "markdown",
   "metadata": {},
   "source": [
    "bu kod satiri degil notlari yazmak icin markdown i sectik"
   ]
  },
  {
   "cell_type": "code",
   "execution_count": 41,
   "metadata": {},
   "outputs": [
    {
     "name": "stdout",
     "output_type": "stream",
     "text": [
      "Hello world!\n"
     ]
    }
   ],
   "source": [
    "print(\"Hello world!\")"
   ]
  },
  {
   "cell_type": "code",
   "execution_count": 42,
   "metadata": {},
   "outputs": [
    {
     "ename": "SyntaxError",
     "evalue": "incomplete input (3320425514.py, line 1)",
     "output_type": "error",
     "traceback": [
      "\u001b[1;36m  Cell \u001b[1;32mIn[42], line 1\u001b[1;36m\u001b[0m\n\u001b[1;33m    print(\"syntax hatasi cikacak cunku parantezi kapatmadik\"\u001b[0m\n\u001b[1;37m                                                            ^\u001b[0m\n\u001b[1;31mSyntaxError\u001b[0m\u001b[1;31m:\u001b[0m incomplete input\n"
     ]
    }
   ],
   "source": [
    "print(\"syntax hatasi cikacak cunku parantezi kapatmadik\""
   ]
  },
  {
   "cell_type": "code",
   "execution_count": null,
   "metadata": {},
   "outputs": [
    {
     "ename": "NameError",
     "evalue": "name 'Print' is not defined",
     "output_type": "error",
     "traceback": [
      "\u001b[1;31m---------------------------------------------------------------------------\u001b[0m",
      "\u001b[1;31mNameError\u001b[0m                                 Traceback (most recent call last)",
      "Cell \u001b[1;32mIn[5], line 1\u001b[0m\n\u001b[1;32m----> 1\u001b[0m Print(\u001b[39m\"\u001b[39m\u001b[39mHello world\u001b[39m\u001b[39m\"\u001b[39m)\n",
      "\u001b[1;31mNameError\u001b[0m: name 'Print' is not defined"
     ]
    }
   ],
   "source": [
    "Print(\"Hello world\") # python case sensitive bir dildir.Buyuk kucuk harfe karsi duyarlidir"
   ]
  },
  {
   "cell_type": "code",
   "execution_count": null,
   "metadata": {},
   "outputs": [
    {
     "ename": "SyntaxError",
     "evalue": "'(' was never closed (1596799976.py, line 2)",
     "output_type": "error",
     "traceback": [
      "\u001b[1;36m  Cell \u001b[1;32mIn[12], line 2\u001b[1;36m\u001b[0m\n\u001b[1;33m    print(\"Merhaba dunya\"\u001b[0m\n\u001b[1;37m         ^\u001b[0m\n\u001b[1;31mSyntaxError\u001b[0m\u001b[1;31m:\u001b[0m '(' was never closed\n"
     ]
    }
   ],
   "source": [
    "print(\"Hello world\")\n",
    "print(\"Merhaba dunya\"\n",
    "print(\"Merhaba dunya\")"
   ]
  },
  {
   "cell_type": "code",
   "execution_count": null,
   "metadata": {},
   "outputs": [
    {
     "name": "stdout",
     "output_type": "stream",
     "text": [
      "tirnak isareti string degerleri yazmak icin kullanilir\n"
     ]
    }
   ],
   "source": [
    "print(\"tirnak isareti string degerleri yazmak icin kullanilir\")"
   ]
  },
  {
   "cell_type": "code",
   "execution_count": null,
   "metadata": {},
   "outputs": [
    {
     "name": "stdout",
     "output_type": "stream",
     "text": [
      "tek tirnak isareti de string degerleri yazmak icin kullanilir\n"
     ]
    }
   ],
   "source": [
    "print('tek tirnak isareti de string degerleri yazmak icin kullanilir')"
   ]
  },
  {
   "cell_type": "code",
   "execution_count": null,
   "metadata": {},
   "outputs": [
    {
     "name": "stdout",
     "output_type": "stream",
     "text": [
      "I'm a python teacher\n"
     ]
    }
   ],
   "source": [
    "print(\"I'm a python teacher\")"
   ]
  },
  {
   "cell_type": "code",
   "execution_count": null,
   "metadata": {},
   "outputs": [
    {
     "name": "stdout",
     "output_type": "stream",
     "text": [
      "I\"m a python teacher\n"
     ]
    }
   ],
   "source": [
    "print('I\"m a python teacher')"
   ]
  },
  {
   "cell_type": "code",
   "execution_count": null,
   "metadata": {},
   "outputs": [
    {
     "name": "stdout",
     "output_type": "stream",
     "text": [
      "ben cuneyt geliyorum\n"
     ]
    }
   ],
   "source": [
    "print('''ben cuneyt geliyorum''')"
   ]
  },
  {
   "cell_type": "code",
   "execution_count": null,
   "metadata": {},
   "outputs": [
    {
     "name": "stdout",
     "output_type": "stream",
     "text": [
      "ben cuneyt geliyorum\n"
     ]
    }
   ],
   "source": [
    "print(\"\"\"ben cuneyt geliyorum\"\"\")"
   ]
  },
  {
   "cell_type": "code",
   "execution_count": null,
   "metadata": {},
   "outputs": [
    {
     "name": "stdout",
     "output_type": "stream",
     "text": [
      "hello\n"
     ]
    }
   ],
   "source": [
    "print(\"\"\"\"\"\"\"hello\"\"\"\"\"\"\")"
   ]
  },
  {
   "cell_type": "code",
   "execution_count": null,
   "metadata": {},
   "outputs": [
    {
     "name": "stdout",
     "output_type": "stream",
     "text": [
      "ilk satirda yazmaya baslayip\n",
      "tirnagi kapatmadan satir atlayip devam edip.\n",
      "tirnagi sonraki satirlarda kapatmak isterseniz coklu tirnak kullanilir yoksa hata verir\n"
     ]
    }
   ],
   "source": [
    "print(\"\"\"ilk satirda yazmaya baslayip\n",
    "tirnagi kapatmadan satir atlayip devam edip.\n",
    "tirnagi sonraki satirlarda kapatmak isterseniz coklu tirnak kullanilir yoksa hata verir\"\"\")"
   ]
  },
  {
   "attachments": {},
   "cell_type": "markdown",
   "metadata": {},
   "source": [
    "## pep8 kurallari"
   ]
  },
  {
   "attachments": {},
   "cell_type": "markdown",
   "metadata": {},
   "source": [
    "PEP 8 (Python Enhancement Proposal 8), Python programlama dilinde kodun stil ve düzeni için önerilen bir kılavuzdur. Bu kılavuz, Python topluluğu tarafından kabul edilmiş bir standarttır ve kodun okunabilirliğini artırmayı hedefler. İşte bazı önemli PEP 8 kuralları:\n",
    "İsimlendirme:\n",
    "Değişken ve fonksiyon isimleri küçük harflerle ve gerektiğinde alt çizgi (_) kullanarak yazılır. Örnek: my_variable, my_function.\n",
    "Sabit (constant) isimleri tamamen büyük harflerle yazılır. Örnek: MY_CONSTANT.\n",
    "Sınıflar için CamelCase isimlendirme kullanılır. Örnek: MyClass.\n",
    "Modül isimleri küçük harflerle ve gerektiğinde alt çizgi (_) kullanarak yazılır. Örnek: my_module.\n",
    "Girintileme:\n",
    "4 boşluk veya bir sekme karakteri kullanarak girintileme yapılır. Girintileme seviyeleri arasında tutarlılık sağlanmalıdır.\n",
    "Girintileme seviyesi, her seviye için 4 boşluk kullanılması önerilir.\n",
    "Satır Uzunluğu:\n",
    "Bir satırın en fazla 79 karakter olmasını önerilir. Uzun satırları bölmek için parantezler veya satır sonlarındaki devam işareti () kullanılabilir.\n",
    "Boşluklar:\n",
    "Operatörlerin etrafında ve virgül sonrasında bir boşluk bırakılması önerilir. Örnek: a = 10 + 5, my_function(arg1, arg2).\n",
    "Parantezlerin içinde ve etrafında boşluk bırakılması önerilir. Örnek: my_function(arg1, arg2).\n",
    "İfadeler arasında ve fonksiyon tanımları arasında bir boşluk bırakılması önerilir.\n",
    "Dosyaların en üstünde ve sınıf/fonksiyon tanımlarının başında 2 boş satır bırakılması önerilir.\n",
    "Yorumlar:\n",
    "Kodun anlaşılmasını kolaylaştırmak için açıklayıcı yorumlar kullanılmalıdır.\n",
    "Yorumlar, kodun üzerinde yer almalı veya boş bir satır ile ayrılmalıdır.\n",
    "Kısa yorumlar için # sembolü kullanılır, daha uzun açıklamalar için çok satırlı yorumlar (''' ... ''' veya \"\"\" ... \"\"\") kullanılır.\n",
    "Bu, PEP 8'in bazı temel kurallarını özetlemektedir. Daha fazla ayrıntı için orijinal PEP 8 belgesine başvurmanız önerilir."
   ]
  },
  {
   "cell_type": "code",
   "execution_count": 45,
   "metadata": {},
   "outputs": [
    {
     "data": {
      "text/plain": [
       "8"
      ]
     },
     "execution_count": 45,
     "metadata": {},
     "output_type": "execute_result"
    }
   ],
   "source": [
    "3+5"
   ]
  },
  {
   "cell_type": "code",
   "execution_count": 46,
   "metadata": {},
   "outputs": [
    {
     "data": {
      "text/plain": [
       "8"
      ]
     },
     "execution_count": 46,
     "metadata": {},
     "output_type": "execute_result"
    }
   ],
   "source": [
    "3 + 5"
   ]
  },
  {
   "cell_type": "code",
   "execution_count": null,
   "metadata": {},
   "outputs": [],
   "source": [
    "print(\"\"\"ilk satirda yazmaya baslayip\n",
    "tirnagi kapatmadan satir atlayip devam edip.\n",
    "tirnagi sonraki satirlarda kapatmak isterseniz coklu tirnak kullanilir yoksa hata verir\"\"\") # pep8 kurali geregi bir satirda 79 karakterden fazlasini istemiyoruz"
   ]
  },
  {
   "attachments": {},
   "cell_type": "markdown",
   "metadata": {},
   "source": [
    "##### comment"
   ]
  },
  {
   "attachments": {},
   "cell_type": "markdown",
   "metadata": {},
   "source": [
    "comment in basina 1 den 6 ya kadar # isareti koydugumuzda buyuklugu ona gore degisecektir"
   ]
  },
  {
   "attachments": {},
   "cell_type": "markdown",
   "metadata": {},
   "source": [
    "## Variables"
   ]
  },
  {
   "cell_type": "code",
   "execution_count": 54,
   "metadata": {},
   "outputs": [],
   "source": [
    "name=\"cuneyt\""
   ]
  },
  {
   "cell_type": "code",
   "execution_count": 56,
   "metadata": {},
   "outputs": [],
   "source": [
    "age=31"
   ]
  },
  {
   "cell_type": "code",
   "execution_count": 49,
   "metadata": {},
   "outputs": [],
   "source": [
    "pi_sayisi=3.14"
   ]
  },
  {
   "cell_type": "code",
   "execution_count": 55,
   "metadata": {},
   "outputs": [
    {
     "name": "stdout",
     "output_type": "stream",
     "text": [
      "cuneyt\n"
     ]
    }
   ],
   "source": [
    "print(name)"
   ]
  },
  {
   "cell_type": "code",
   "execution_count": 57,
   "metadata": {},
   "outputs": [
    {
     "name": "stdout",
     "output_type": "stream",
     "text": [
      "31\n"
     ]
    }
   ],
   "source": [
    "print(age)"
   ]
  },
  {
   "cell_type": "code",
   "execution_count": 60,
   "metadata": {},
   "outputs": [],
   "source": [
    "name2=\"furkan\""
   ]
  },
  {
   "cell_type": "code",
   "execution_count": 61,
   "metadata": {},
   "outputs": [
    {
     "name": "stdout",
     "output_type": "stream",
     "text": [
      "furkan\n"
     ]
    }
   ],
   "source": [
    "print(name2)"
   ]
  },
  {
   "cell_type": "code",
   "execution_count": 62,
   "metadata": {},
   "outputs": [],
   "source": [
    "name_3=\"ramazan\" #pep8 kurallarina gore bu sekilde yazmayi tercih ederiz"
   ]
  },
  {
   "cell_type": "code",
   "execution_count": 63,
   "metadata": {},
   "outputs": [
    {
     "name": "stdout",
     "output_type": "stream",
     "text": [
      "ramazan\n"
     ]
    }
   ],
   "source": [
    "print(name_3)"
   ]
  },
  {
   "cell_type": "code",
   "execution_count": 64,
   "metadata": {},
   "outputs": [
    {
     "ename": "SyntaxError",
     "evalue": "invalid decimal literal (1773768488.py, line 1)",
     "output_type": "error",
     "traceback": [
      "\u001b[1;36m  Cell \u001b[1;32mIn[64], line 1\u001b[1;36m\u001b[0m\n\u001b[1;33m    4name=\"anyone\"\u001b[0m\n\u001b[1;37m    ^\u001b[0m\n\u001b[1;31mSyntaxError\u001b[0m\u001b[1;31m:\u001b[0m invalid decimal literal\n"
     ]
    }
   ],
   "source": [
    "4name=\"anyone\" #degisken tanimlanirken degisken ismi rakamla baslamaz"
   ]
  },
  {
   "cell_type": "code",
   "execution_count": 65,
   "metadata": {},
   "outputs": [],
   "source": [
    "name_4=\"izzet\""
   ]
  },
  {
   "cell_type": "code",
   "execution_count": 67,
   "metadata": {},
   "outputs": [],
   "source": [
    "first_name=\"cuneyt\"\n",
    "last_name=\"Soylu\"\n"
   ]
  },
  {
   "cell_type": "code",
   "execution_count": 68,
   "metadata": {},
   "outputs": [],
   "source": [
    "f_n=\"furkan\" #bu sekilde kisaltmanin ne olacagi tam anlasilamayacagi icin tercih edilmez clear olmali\n",
    "l_n=\"soylu\""
   ]
  },
  {
   "cell_type": "code",
   "execution_count": 69,
   "metadata": {},
   "outputs": [
    {
     "ename": "SyntaxError",
     "evalue": "cannot assign to expression here. Maybe you meant '==' instead of '='? (3748141877.py, line 1)",
     "output_type": "error",
     "traceback": [
      "\u001b[1;36m  Cell \u001b[1;32mIn[69], line 1\u001b[1;36m\u001b[0m\n\u001b[1;33m    name-5=\"cuneyt\"\u001b[0m\n\u001b[1;37m    ^\u001b[0m\n\u001b[1;31mSyntaxError\u001b[0m\u001b[1;31m:\u001b[0m cannot assign to expression here. Maybe you meant '==' instead of '='?\n"
     ]
    }
   ],
   "source": [
    "name-5=\"cuneyt\""
   ]
  },
  {
   "cell_type": "code",
   "execution_count": 70,
   "metadata": {},
   "outputs": [],
   "source": [
    "pi=3\n",
    "num=1"
   ]
  },
  {
   "cell_type": "code",
   "execution_count": 72,
   "metadata": {},
   "outputs": [
    {
     "data": {
      "text/plain": [
       "2"
      ]
     },
     "execution_count": 72,
     "metadata": {},
     "output_type": "execute_result"
    }
   ],
   "source": [
    "pi-num"
   ]
  },
  {
   "cell_type": "code",
   "execution_count": 73,
   "metadata": {},
   "outputs": [
    {
     "ename": "SyntaxError",
     "evalue": "cannot assign to expression here. Maybe you meant '==' instead of '='? (125895711.py, line 1)",
     "output_type": "error",
     "traceback": [
      "\u001b[1;36m  Cell \u001b[1;32mIn[73], line 1\u001b[1;36m\u001b[0m\n\u001b[1;33m    name+6=\"cuneyt\"\u001b[0m\n\u001b[1;37m    ^\u001b[0m\n\u001b[1;31mSyntaxError\u001b[0m\u001b[1;31m:\u001b[0m cannot assign to expression here. Maybe you meant '==' instead of '='?\n"
     ]
    }
   ],
   "source": [
    "name+6=\"cuneyt\""
   ]
  },
  {
   "cell_type": "code",
   "execution_count": 74,
   "metadata": {},
   "outputs": [],
   "source": [
    "name_6 , name_7 = \"cuneyt\",\"furkan\""
   ]
  },
  {
   "cell_type": "code",
   "execution_count": 75,
   "metadata": {},
   "outputs": [
    {
     "name": "stdout",
     "output_type": "stream",
     "text": [
      "cuneyt\n",
      "furkan\n"
     ]
    }
   ],
   "source": [
    "print(name_6)\n",
    "print(name_7)"
   ]
  },
  {
   "cell_type": "code",
   "execution_count": null,
   "metadata": {},
   "outputs": [],
   "source": []
  }
 ],
 "metadata": {
  "kernelspec": {
   "display_name": "Python 3",
   "language": "python",
   "name": "python3"
  },
  "language_info": {
   "codemirror_mode": {
    "name": "ipython",
    "version": 3
   },
   "file_extension": ".py",
   "mimetype": "text/x-python",
   "name": "python",
   "nbconvert_exporter": "python",
   "pygments_lexer": "ipython3",
   "version": "3.10.11"
  },
  "orig_nbformat": 4
 },
 "nbformat": 4,
 "nbformat_minor": 2
}
