{
 "cells": [
  {
   "attachments": {},
   "cell_type": "markdown",
   "metadata": {},
   "source": [
    "Bir dairenin yarıçapını kullanıcıdan alarak alanını ve çevresini hesaplayan ve ekrana yazdıran kodu yazınız. Formüller: Alan= π*r² – Çevre=2*π*r Π = 3.14 olarak kabul edilebilir."
   ]
  },
  {
   "cell_type": "code",
   "execution_count": 6,
   "metadata": {},
   "outputs": [
    {
     "name": "stdout",
     "output_type": "stream",
     "text": [
      "girmis oldugunuz 1.0 cm yaricapli darinenin alani 3.14 \n",
      "girmis oldugunuz 1.0 cm yaricapli darinenin cevresi 6.28\n"
     ]
    }
   ],
   "source": [
    "yariCap=float(input(\"lutfen alan ve cevresinin hesaplanmasini istediginiz darirenin yaricapini giriniz\"))\n",
    "alan=yariCap*yariCap*3.14\n",
    "cevre=2*yariCap*3.14\n",
    "print(\"girmis oldugunuz\",yariCap, \"cm yaricapli darinenin alani\" ,alan, \"\\ngirmis oldugunuz\",yariCap, \"cm yaricapli darinenin cevresi\",cevre )"
   ]
  },
  {
   "attachments": {},
   "cell_type": "markdown",
   "metadata": {},
   "source": [
    "Öğrencilerine 12 haneli öğrenci numarası veren üniversitenin verdiği numaranın ilk 4 hanesi giriş yılı 5. ve 6. hanesi okuduğu fakültenin numarası 7. ve 8. hane bölüm numarası 9. hanesi öğrenim numarası 11. ve 12. hane ise öğrencinin üniversiteye giriş sırasıdır. 12 haneli öğrenci kodunu kullanıcıdan alarak anlamlı şekilde ayıran ve ekrana yazan kodu yazınız.\n",
    "1.\tÖrnek Çıktı:\n",
    "2.\tÖğrenci No: 20151411321\n",
    "3.\tNUMARANIN ACILIMI:\n",
    "4.\tGirisYili: 2015\n",
    "5.\tFakulteNo: 14\n",
    "6.\tBolumNo: 11\n",
    "7.\tOgrenimNo: 3\n",
    "8.\tOgrenciNo: 21\n"
   ]
  },
  {
   "cell_type": "code",
   "execution_count": 35,
   "metadata": {},
   "outputs": [
    {
     "name": "stdout",
     "output_type": "stream",
     "text": [
      "Ogrenci No:  123456789098 \n",
      "GirisYili:  1234 \n",
      "FakulteNo:  56 \n",
      "BolumNo:  78 \n",
      "OgrenimNo:  9 \n",
      "OgrenciGirisSirasi:  98\n"
     ]
    }
   ],
   "source": [
    "ogrenciNo=int(input(\"lutfen 12 haneli ogrenci numarasi giriniz\"))\n",
    "girisYili=str(ogrenciNo)[:4]\n",
    "fakulteNo=str(ogrenciNo)[4:6]\n",
    "bolumNo=str(ogrenciNo)[6:8]\n",
    "ogrenimNo=str(ogrenciNo)[8:9]\n",
    "ogrenciGirisSirasi=str(ogrenciNo)[10:12]\n",
    "if len(str(ogrenciNo))==12:\n",
    "    {\n",
    " \n",
    "        print(\"Ogrenci No: \",ogrenciNo,\"\\nGirisYili: \",girisYili,\"\\nFakulteNo: \",fakulteNo,\n",
    "        \"\\nBolumNo: \",bolumNo,\"\\nOgrenimNo: \",ogrenimNo,\"\\nOgrenciGirisSirasi: \",ogrenciGirisSirasi)\n",
    "              \n",
    "\n",
    "}\n",
    "else :\n",
    "    print(\"lutfen 12 haneli bir ogrenci numarasi giriniz\")\n",
    "\n",
    "\n"
   ]
  },
  {
   "cell_type": "code",
   "execution_count": 37,
   "metadata": {},
   "outputs": [
    {
     "name": "stdout",
     "output_type": "stream",
     "text": [
      "Hata! Lütfen 12 haneli bir öğrenci numaraiı girin.\n"
     ]
    }
   ],
   "source": [
    "ogrenci_no = input(\"Lütfen 12 haneli öğrenci numarasini girin: \")\n",
    "if len(ogrenci_no) != 12:\n",
    "    print(\"Hata! Lütfen 12 haneli bir öğrenci numaraiı girin.\")\n",
    "else:\n",
    "    print(\"Öğrenci No:\", ogrenci_no)\n",
    "    print(\"NUMARANIN ACILIMI:\")\n",
    "    print(\"GirisYili:\", ogrenci_no[:4])\n",
    "    print(\"FakulteNo:\", ogrenci_no[4:6])\n",
    "    print(\"BolumNo:\", ogrenci_no[6:8])\n",
    "    print(\"OgrenimNo:\", ogrenci_no[8])\n",
    "    print(\"OgrenciNo:\", ogrenci_no[9:])"
   ]
  },
  {
   "attachments": {},
   "cell_type": "markdown",
   "metadata": {},
   "source": [
    "Bir liste içindeki 5’in katları olan sayıları bulan ve ekrana yazan bir program yazınız"
   ]
  },
  {
   "cell_type": "code",
   "execution_count": 41,
   "metadata": {},
   "outputs": [
    {
     "name": "stdout",
     "output_type": "stream",
     "text": [
      "5\n",
      "10\n",
      "15\n",
      "20\n",
      "25\n",
      "30\n",
      "35\n",
      "40\n"
     ]
    }
   ],
   "source": [
    "liste = [1, 5, 10, 15, 20, 25, 30, 35, 40]\n",
    "for sayi in liste:\n",
    "    if sayi % 5 == 0:\n",
    "        print(sayi)"
   ]
  },
  {
   "attachments": {},
   "cell_type": "markdown",
   "metadata": {},
   "source": [
    "Parametre olarak bir tamsayı dizisi alan bir fonksiyon yazın (fonksiyonun adi moveZeroes olsun). Bu fonksiyonun görevi bu tamsayı dizisindeki sıfır olmayan öğelerin göreli sırasını korurken, tüm 0'ları dizinin sonuna taşısın.\n",
    "Not: Bunu dizinin bir kopyasını oluşturmadan, aynı dizi üzerinde yapmanız gerekmektedir.\n",
    "1.\tÖrnek:\n",
    "2.\tsayilar = [0,1,0,3,11]\n",
    "3.\tmoveZeroes(sayilar)\n",
    "4.\tprint(sayilar)  => Ekrana [1, 3, 11, 0, 0] yazmalı.\n"
   ]
  },
  {
   "attachments": {},
   "cell_type": "markdown",
   "metadata": {},
   "source": [
    "Parametre olarak bir tamsayı listesi/arrayi (lst) alan bir fonksiyon yazın (fonksiyonun adı validMountainArray olsun). Bu fonksiyonun görevi lst tamsayı listesi eğer geçerli bir mountain array ise true değerini döndürsün aksi halde false değerini döndürsün.\n",
    "Bilgi: Mountain Array dizisi tanımı:\n",
    "•\tlst.length >= 3 OLMALI\n",
    "•\ti with 0 < i < lst.length - 1 öyle ki:\n",
    "•\tarr[0] < arr[1] < ... < arr[i - 1] < arr[i]\n",
    "arr[i] > arr[i + 1] > ... > arr[arr.length - 1]\n",
    "Aşağıdaki şekildeki örneklerde daha net anlaşılacak şekilde gösterilmiştir:\n",
    " \n",
    "Yani tekrar etmek gerekirse liste içindeki sayılar önce artacak daha sonra azalacaklardır.\n",
    "Sadece artma veya sadece azalma mountain array olmamaktadır.\n"
   ]
  },
  {
   "cell_type": "code",
   "execution_count": null,
   "metadata": {},
   "outputs": [],
   "source": []
  },
  {
   "cell_type": "code",
   "execution_count": null,
   "metadata": {},
   "outputs": [],
   "source": []
  }
 ],
 "metadata": {
  "kernelspec": {
   "display_name": "Python 3",
   "language": "python",
   "name": "python3"
  },
  "language_info": {
   "codemirror_mode": {
    "name": "ipython",
    "version": 3
   },
   "file_extension": ".py",
   "mimetype": "text/x-python",
   "name": "python",
   "nbconvert_exporter": "python",
   "pygments_lexer": "ipython3",
   "version": "3.10.11"
  },
  "orig_nbformat": 4
 },
 "nbformat": 4,
 "nbformat_minor": 2
}
