{
 "cells": [
  {
   "cell_type": "code",
   "execution_count": 8,
   "metadata": {},
   "outputs": [],
   "source": [
    "with open(\"sehirler.txt\", \"r\", encoding=\"utf-8\") as file:\n",
    "    Tr = []\n",
    "    Usa = []\n",
    "    Uk = []\n",
    "\n",
    "    for i in file:\n",
    "        i = i[:-1]\n",
    "        satir = i.split(\",\")\n",
    "\n",
    "        if (satir[1] == \"Turkey\"):\n",
    "            Tr.append(i + \"\\n\")\n",
    "        elif (satir[1] == \"USA\"):\n",
    "            Usa.append(i + \"\\n\")\n",
    "        else:\n",
    "            Uk.append(i + \"\\n\")\n",
    "\n",
    "    with open(\"Tr.txt\", \"w\", encoding=\"utf-8\") as Turkey:\n",
    "\n",
    "        for i in Tr:\n",
    "            Turkey.write(i)\n",
    "\n",
    "    with open(\"Usa.txt\", \"w\", encoding=\"utf-8\") as America:\n",
    "        for i in Usa:\n",
    "            America.write(i)\n",
    "    with open(\"Uk.txt\", \"w\", encoding=\"utf-8\") as England:\n",
    "        for i in Uk:\n",
    "            England.write(i)"
   ]
  }
 ],
 "metadata": {
  "kernelspec": {
   "display_name": "Python 3",
   "language": "python",
   "name": "python3"
  },
  "language_info": {
   "codemirror_mode": {
    "name": "ipython",
    "version": 3
   },
   "file_extension": ".py",
   "mimetype": "text/x-python",
   "name": "python",
   "nbconvert_exporter": "python",
   "pygments_lexer": "ipython3",
   "version": "3.10.11"
  },
  "orig_nbformat": 4
 },
 "nbformat": 4,
 "nbformat_minor": 2
}
