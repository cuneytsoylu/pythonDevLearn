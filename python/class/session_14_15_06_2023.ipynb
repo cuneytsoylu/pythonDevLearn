{
 "cells": [
  {
   "cell_type": "code",
   "execution_count": null,
   "metadata": {},
   "outputs": [],
   "source": [
    "while True:\n",
    "    number = int(input(\"1 ile 9 arasinda bir sayi  girin\"))\n",
    "    if 1 <= number <= 9:\n",
    "       for i in range(1,11):\n",
    "            print(f\"{number} x {i:<2} = {number * i}\")\n",
    "       break\n",
    "    else:\n",
    "        print(\"1 ile 9 arasinda bir sayi girmenizi istemiştim.\")"
   ]
  },
  {
   "cell_type": "code",
   "execution_count": 1,
   "metadata": {},
   "outputs": [
    {
     "name": "stdout",
     "output_type": "stream",
     "text": [
      "1275\n"
     ]
    }
   ],
   "source": [
    "toplam = 0\n",
    "for i in range(1, 51):\n",
    "    toplam += i\n",
    "print(toplam)"
   ]
  },
  {
   "cell_type": "code",
   "execution_count": 3,
   "metadata": {},
   "outputs": [
    {
     "name": "stdout",
     "output_type": "stream",
     "text": [
      "1275\n"
     ]
    }
   ],
   "source": [
    "n = 50\n",
    "toplam = n * (n + 1) // 2\n",
    "print(toplam)"
   ]
  },
  {
   "cell_type": "code",
   "execution_count": 4,
   "metadata": {},
   "outputs": [
    {
     "data": {
      "text/plain": [
       "1275"
      ]
     },
     "execution_count": 4,
     "metadata": {},
     "output_type": "execute_result"
    }
   ],
   "source": [
    "sum(range(1,51))"
   ]
  },
  {
   "cell_type": "code",
   "execution_count": 5,
   "metadata": {},
   "outputs": [
    {
     "data": {
      "text/plain": [
       "15"
      ]
     },
     "execution_count": 5,
     "metadata": {},
     "output_type": "execute_result"
    }
   ],
   "source": [
    "sum([1,2,3,4,5])"
   ]
  },
  {
   "cell_type": "code",
   "execution_count": 6,
   "metadata": {},
   "outputs": [
    {
     "name": "stdout",
     "output_type": "stream",
     "text": [
      "650\n"
     ]
    }
   ],
   "source": [
    "x = 50 // 2\n",
    "sonuc = x * (x + 1)\n",
    "print(sonuc)"
   ]
  },
  {
   "cell_type": "code",
   "execution_count": null,
   "metadata": {},
   "outputs": [],
   "source": [
    "toplam = sum(range(2, 51, 2))\n",
    "print(toplam"
   ]
  },
  {
   "cell_type": "code",
   "execution_count": 7,
   "metadata": {},
   "outputs": [
    {
     "name": "stdout",
     "output_type": "stream",
     "text": [
      "650\n"
     ]
    }
   ],
   "source": [
    "sum_3=0\n",
    "for i in range(1,51):\n",
    "    if i%2==0:\n",
    "        sum_3+=i\n",
    "print(sum_3)        \n",
    "    "
   ]
  },
  {
   "cell_type": "code",
   "execution_count": 8,
   "metadata": {},
   "outputs": [
    {
     "data": {
      "text/plain": [
       "625"
      ]
     },
     "execution_count": 8,
     "metadata": {},
     "output_type": "execute_result"
    }
   ],
   "source": [
    "sum(range(1,51,2))"
   ]
  },
  {
   "cell_type": "code",
   "execution_count": 9,
   "metadata": {},
   "outputs": [
    {
     "name": "stdout",
     "output_type": "stream",
     "text": [
      "625\n"
     ]
    }
   ],
   "source": [
    "sum_odds=0\n",
    "\n",
    "for i in range(1,51):\n",
    "    if i%2==1:\n",
    "        sum_odds+=i\n",
    "print(sum_odds)        "
   ]
  },
  {
   "cell_type": "code",
   "execution_count": 10,
   "metadata": {},
   "outputs": [
    {
     "name": "stdout",
     "output_type": "stream",
     "text": [
      "625\n"
     ]
    }
   ],
   "source": [
    "sum_odds=0\n",
    "\n",
    "for i in range(1,51):\n",
    "    if i%2: ## bu islem tek sayilari bulur\n",
    "        sum_odds+=i\n",
    "print(sum_odds) "
   ]
  },
  {
   "attachments": {},
   "cell_type": "markdown",
   "metadata": {},
   "source": [
    "## break,continue"
   ]
  },
  {
   "cell_type": "code",
   "execution_count": 11,
   "metadata": {},
   "outputs": [
    {
     "name": "stdout",
     "output_type": "stream",
     "text": [
      "i sayisi :1\n",
      "i sayisi :2\n",
      "i sayisi :3\n",
      "9\n"
     ]
    }
   ],
   "source": [
    "for i in [1,2,3,4,5,6,7,8,9]:\n",
    "    print(f\"i sayisi :{i}\")\n",
    "\n",
    "    if i%3==0:\n",
    "        print(i**2)\n",
    "        break\n",
    "\n",
    "\n"
   ]
  },
  {
   "cell_type": "code",
   "execution_count": 13,
   "metadata": {},
   "outputs": [
    {
     "name": "stdout",
     "output_type": "stream",
     "text": [
      "i sayisi :1\n",
      "1\n",
      "i sayisi :2\n",
      "4\n",
      "i sayisi :3\n",
      "i sayisi :4\n",
      "16\n",
      "i sayisi :5\n",
      "25\n",
      "i sayisi :6\n",
      "i sayisi :7\n",
      "49\n",
      "i sayisi :8\n",
      "64\n",
      "i sayisi :9\n"
     ]
    }
   ],
   "source": [
    "for i in [1,2,3,4,5,6,7,8,9]:\n",
    "    print(f\"i sayisi :{i}\")\n",
    "\n",
    "    if i%3==0:\n",
    "        continue\n",
    "    print(i**2)\n",
    "   "
   ]
  },
  {
   "cell_type": "code",
   "execution_count": 4,
   "metadata": {},
   "outputs": [
    {
     "name": "stdout",
     "output_type": "stream",
     "text": [
      "40\n"
     ]
    }
   ],
   "source": [
    "toplam=0\n",
    "for i in range(1,10):\n",
    "    if i%5==0:\n",
    "        continue\n",
    "    toplam+=i\n",
    "print(toplam)"
   ]
  },
  {
   "cell_type": "code",
   "execution_count": 5,
   "metadata": {},
   "outputs": [
    {
     "name": "stdout",
     "output_type": "stream",
     "text": [
      "\n",
      "1>>>> Elma\n",
      "2>>>> Portakal\n",
      "3>>>> Cilek\n",
      "4>>>> Yumurta\n",
      "5>>>> Havuc\n",
      "6>>>> Armut\n",
      "Elma sepete eklendi\n",
      "Çilek sepete eklendi\n",
      "Armut sepete eklendi\n",
      "Çilek sepete eklendi\n",
      "Yumurta sepete eklendi\n",
      "Bizi tercih ettiginiz icin tesekkurler.Yine bekleriz\n",
      "Almis oldugunuz urunler : ['Elma', 'Çilek', 'Armut', 'Çilek', 'Yumurta']\n"
     ]
    }
   ],
   "source": [
    "urunler = {1: \"Elma\", 2: \"Portakal\", 3: \"Çilek\", 4: \"Yumurta\", 5: \"Havuç\", 6: \"Armut\"}\n",
    "\n",
    "print(\"\"\"\n",
    "1>>>> Elma\n",
    "2>>>> Portakal\n",
    "3>>>> Cilek\n",
    "4>>>> Yumurta\n",
    "5>>>> Havuc\n",
    "6>>>> Armut\"\"\")\n",
    "\n",
    "sepet=[]\n",
    "\n",
    "while True:\n",
    "    secim=input(\"Almak istediginiz urunun kodunu yazin.Sepete eklemeyi bitirdiginiz zaman 'q' tusuna basin\")\n",
    "    if secim !=\"q\":\n",
    "        sepet.append(urunler[int(secim)])\n",
    "        print(f\"{urunler[int(secim)]} sepete eklendi\")\n",
    "    elif secim==\"q\":\n",
    "        print(\"Bizi tercih ettiginiz icin tesekkurler.Yine bekleriz\")\n",
    "        print(f\"Almis oldugunuz urunler : {sepet}\")    \n",
    "        break\n",
    "\n",
    "\n",
    "\n",
    "\n"
   ]
  },
  {
   "cell_type": "code",
   "execution_count": 6,
   "metadata": {},
   "outputs": [
    {
     "name": "stdout",
     "output_type": "stream",
     "text": [
      "\n",
      "1>>>> Elma\n",
      "2>>>> Portakal\n",
      "3>>>> Cilek\n",
      "4>>>> Yumurta\n",
      "5>>>> Havuc\n",
      "6>>>> Armut\n",
      "Elma sepete eklendi\n",
      "Portakal sepete eklendi\n",
      "Çilek sepete eklendi\n",
      "Yumurta sepete eklendi\n",
      "Çilek sepete eklendi\n",
      "Çilek sepete eklendi\n",
      "Armut sepete eklendi\n",
      "Armut sepete eklendi\n",
      "Havuç sepete eklendi\n",
      "Yumurta sepete eklendi\n",
      "Bizi tercih ettiginiz icin tesekkurler.Yine bekleriz\n",
      "Almis oldugunuz urunler : ['Elma', 'Portakal', 'Çilek', 'Yumurta', 'Çilek', 'Çilek', 'Armut', 'Armut', 'Havuç', 'Yumurta']\n"
     ]
    }
   ],
   "source": [
    "urunler = {1: \"Elma\", 2: \"Portakal\", 3: \"Çilek\", 4: \"Yumurta\", 5: \"Havuç\", 6: \"Armut\"}\n",
    "\n",
    "print(\"\"\"\n",
    "1>>>> Elma\n",
    "2>>>> Portakal\n",
    "3>>>> Cilek\n",
    "4>>>> Yumurta\n",
    "5>>>> Havuc\n",
    "6>>>> Armut\"\"\")\n",
    "\n",
    "sepet=[]\n",
    "\n",
    "while True:\n",
    "    secim=input(\"Almak istediginiz urunun kodunu yazin.Sepete eklemeyi bitirdiginiz zaman 'q' tusuna basin\")\n",
    "    if secim !=\"q\":\n",
    "        sepet.append(urunler[int(secim)])\n",
    "        print(f\"{sepet[-1]} sepete eklendi\")\n",
    "    elif secim==\"q\":\n",
    "        print(\"Bizi tercih ettiginiz icin tesekkurler.Yine bekleriz\")\n",
    "        print(f\"Almis oldugunuz urunler : {sepet}\")    \n",
    "        break"
   ]
  },
  {
   "cell_type": "code",
   "execution_count": null,
   "metadata": {},
   "outputs": [],
   "source": []
  }
 ],
 "metadata": {
  "kernelspec": {
   "display_name": "Python 3",
   "language": "python",
   "name": "python3"
  },
  "language_info": {
   "codemirror_mode": {
    "name": "ipython",
    "version": 3
   },
   "file_extension": ".py",
   "mimetype": "text/x-python",
   "name": "python",
   "nbconvert_exporter": "python",
   "pygments_lexer": "ipython3",
   "version": "3.10.11"
  },
  "orig_nbformat": 4
 },
 "nbformat": 4,
 "nbformat_minor": 2
}
