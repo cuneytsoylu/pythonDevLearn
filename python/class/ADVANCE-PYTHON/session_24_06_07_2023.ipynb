{
 "cells": [
  {
   "attachments": {},
   "cell_type": "markdown",
   "metadata": {},
   "source": []
  },
  {
   "cell_type": "code",
   "execution_count": 1,
   "metadata": {},
   "outputs": [
    {
     "name": "stdout",
     "output_type": "stream",
     "text": [
      "merhaba kelimesinde 3 sesli harf vardir\n"
     ]
    }
   ],
   "source": [
    "sesli_harfler=\"aeıioöuü\"\n",
    "sayac=0\n",
    "\n",
    "kelime=input(\"Bir kelime giriniz\").lower()\n",
    "\n",
    "\n",
    "for harf in kelime:\n",
    "    if harf in sesli_harfler:\n",
    "        sayac+=1\n",
    "\n",
    "\n",
    "mesaj=f\"{kelime} kelimesinde {sayac} sesli harf vardir\"\n",
    "\n",
    "print(mesaj)"
   ]
  },
  {
   "cell_type": "code",
   "execution_count": 6,
   "metadata": {},
   "outputs": [
    {
     "name": "stdout",
     "output_type": "stream",
     "text": [
      "aeou kelimesinde 4 sesli harf vardir\n"
     ]
    }
   ],
   "source": [
    "sesli_harfler = \"aeıioöuü\"\n",
    "sayac = 0\n",
    "\n",
    "def kelime_sor():\n",
    "    return input(\"bir kelime giriniz\").lower()\n",
    "\n",
    "def seslidir(harf):\n",
    "    return harf in sesli_harfler\n",
    "\n",
    "def artir(sayac, kelime):\n",
    "    for harf in kelime:\n",
    "        if seslidir(harf):\n",
    "            sayac += 1\n",
    "    return sayac\n",
    "\n",
    "def ekrana_goster(kelime):\n",
    "    mesaj = f\"{kelime} kelimesinde {artir(sayac, kelime)} sesli harf vardir\"\n",
    "    print(mesaj)\n",
    "\n",
    "def calistir():\n",
    "    kelime = kelime_sor()\n",
    "    ekrana_goster(kelime)\n",
    "\n",
    "    \n",
    "if __name__ == '__main__':\n",
    "    calistir()    \n"
   ]
  },
  {
   "cell_type": "code",
   "execution_count": 14,
   "metadata": {},
   "outputs": [
    {
     "name": "stdout",
     "output_type": "stream",
     "text": [
      "alo kelimesinde 2 sesli harf vardir\n"
     ]
    }
   ],
   "source": [
    "class HarfSayaci:\n",
    "    def __init__(self):\n",
    "        self.sesli_harfler=\"aeıioöuü\"\n",
    "        self.sayac=0\n",
    "\n",
    "\n",
    "    def kelime_sor(self): \n",
    "\n",
    "        return input(\"bir kelime giriniz\").lower()\n",
    "\n",
    "    def seslidir(self,harf):   \n",
    "        return harf in self.sesli_harfler\n",
    "    \n",
    "    def artir(self):\n",
    "        for harf in self.kelime:\n",
    "            if self.seslidir(harf):\n",
    "                self.sayac+=1\n",
    "\n",
    "        return self.sayac \n",
    "\n",
    "    def ekrana_goster(self):\n",
    "        ses_harf_sayisi = self.artir()\n",
    "        mesaj =f\"{self.kelime} kelimesinde {ses_harf_sayisi} sesli harf vardir\" \n",
    "        print(mesaj)\n",
    "\n",
    "    def calistir(self):\n",
    "        self.kelime=self.kelime_sor()\n",
    "        self.ekrana_goster()\n",
    "\n",
    "if __name__=='__main__':\n",
    "\n",
    "    sayac = HarfSayaci()\n",
    "    sayac.calistir()\n",
    "\n"
   ]
  },
  {
   "cell_type": "code",
   "execution_count": 11,
   "metadata": {},
   "outputs": [
    {
     "name": "stdout",
     "output_type": "stream",
     "text": [
      "alo kelimesinde 2 sesli harf vardır\n"
     ]
    }
   ],
   "source": [
    "class HarfSayaci:\n",
    "    def __init__(self):\n",
    "        self.sesli_harfler = \"aeıioöuü\"\n",
    "        self.sayac = 0\n",
    "\n",
    "    def kelime_sor(self):\n",
    "        return input(\"Bir kelime giriniz: \").lower()\n",
    "    \n",
    "    def seslidir(self, harf):\n",
    "        return harf in self.sesli_harfler\n",
    "    \n",
    "    def artir(self):\n",
    "        for harf in self.kelime:\n",
    "            if self.seslidir(harf):\n",
    "                self.sayac += 1\n",
    "        return self.sayac\n",
    "    \n",
    "    def ekrana_goster(self):\n",
    "        sesli_harf_sayisi = self.artir()\n",
    "        mesaj = f\"{self.kelime} kelimesinde {sesli_harf_sayisi} sesli harf vardır\"\n",
    "        print(mesaj)\n",
    "\n",
    "    def calistir(self):\n",
    "        self.kelime = self.kelime_sor()\n",
    "        self.ekrana_goster()\n",
    "\n",
    "if __name__ == '__main__':\n",
    "    sayac = HarfSayaci()\n",
    "    sayac.calistir()"
   ]
  },
  {
   "cell_type": "code",
   "execution_count": 16,
   "metadata": {},
   "outputs": [
    {
     "name": "stdout",
     "output_type": "stream",
     "text": [
      "alo\\ kelimesinde 2 sesli harf vardır\n",
      "alo\\ kelimesinde 1 sessiz harf vardır\n"
     ]
    }
   ],
   "source": [
    "class HarfSayaci:\n",
    "    def __init__(self):\n",
    "        self.sesli_harfler = \"aeıioöuü\"\n",
    "        self.sessiz_harfler = \"bcçdfgğhjklmnprsştvyz\"\n",
    "        self.sesli_sayac = 0\n",
    "        self.sessiz_sayac = 0\n",
    "\n",
    "    def kelime_sor(self):\n",
    "        return input(\"Bir kelime giriniz: \").lower()\n",
    "\n",
    "    def seslidir(self, harf):\n",
    "        return harf in self.sesli_harfler\n",
    "\n",
    "    def sessizdir(self, harf):\n",
    "        return harf in self.sessiz_harfler\n",
    "\n",
    "    def artir(self):\n",
    "        for harf in self.kelime:\n",
    "            if self.seslidir(harf):\n",
    "                self.sesli_sayac += 1\n",
    "            elif self.sessizdir(harf):\n",
    "                self.sessiz_sayac += 1\n",
    "        return self.sesli_sayac, self.sessiz_sayac\n",
    "\n",
    "    def ekrana_goster(self):\n",
    "        sesli_harf_sayisi, sessiz_harf_sayisi = self.artir()\n",
    "        mesaj = f\"{self.kelime} kelimesinde {sesli_harf_sayisi} sesli harf vardır\"\n",
    "        mesaj2 = f\"{self.kelime} kelimesinde {sessiz_harf_sayisi} sessiz harf vardır\"\n",
    "        print(mesaj)\n",
    "        print(mesaj2)\n",
    "\n",
    "    def calistir(self):\n",
    "        self.kelime = self.kelime_sor()\n",
    "        self.ekrana_goster()\n",
    "\n",
    "\n",
    "if __name__ == '__main__':\n",
    "    sayac = HarfSayaci()\n",
    "    sayac.calistir()"
   ]
  },
  {
   "cell_type": "code",
   "execution_count": null,
   "metadata": {},
   "outputs": [],
   "source": [
    "class Personel:\n",
    "\n",
    "\n",
    "\n",
    "    "
   ]
  }
 ],
 "metadata": {
  "kernelspec": {
   "display_name": "Python 3",
   "language": "python",
   "name": "python3"
  },
  "language_info": {
   "codemirror_mode": {
    "name": "ipython",
    "version": 3
   },
   "file_extension": ".py",
   "mimetype": "text/x-python",
   "name": "python",
   "nbconvert_exporter": "python",
   "pygments_lexer": "ipython3",
   "version": "3.10.11"
  },
  "orig_nbformat": 4
 },
 "nbformat": 4,
 "nbformat_minor": 2
}
