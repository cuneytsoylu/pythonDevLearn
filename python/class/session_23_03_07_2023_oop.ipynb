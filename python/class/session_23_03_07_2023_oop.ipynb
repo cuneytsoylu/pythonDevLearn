{
 "cells": [
  {
   "attachments": {},
   "cell_type": "markdown",
   "metadata": {},
   "source": [
    "# Object Oriented Programming\n",
    "\n",
    "### Object\n",
    "\n",
    "### Instance\n",
    "\n",
    "### Class"
   ]
  },
  {
   "cell_type": "code",
   "execution_count": 1,
   "metadata": {},
   "outputs": [
    {
     "name": "stdout",
     "output_type": "stream",
     "text": [
      "<class '__main__.Personel'>\n",
      "<__main__.Personel object at 0x00000270CA9EE8C0>\n",
      "<__main__.Personel object at 0x00000270CA9EE8F0>\n"
     ]
    }
   ],
   "source": [
    "class Personel:\n",
    "    pass\n",
    "\n",
    "\n",
    "per_1=Personel()\n",
    "\n",
    "per_2=Personel()\n",
    "\n",
    "print(Personel)\n",
    "print(per_1)\n",
    "print(per_2)"
   ]
  },
  {
   "cell_type": "code",
   "execution_count": 7,
   "metadata": {},
   "outputs": [
    {
     "name": "stdout",
     "output_type": "stream",
     "text": [
      "Esma\n",
      "Sert\n",
      "25000\n",
      "esma.sert@firma.com\n",
      "Mary\n",
      "Smith\n",
      "40000\n",
      "mary.smith@firma.com\n"
     ]
    }
   ],
   "source": [
    "class Personel:\n",
    "    def tanimla(self,isim,soyisim,maas):\n",
    "        self.ad=isim\n",
    "        self.soyad=soyisim\n",
    "        self.price=maas\n",
    "        self.eposta=f\"{isim.lower()}.{soyisim.lower()}@firma.com\"\n",
    "        return self\n",
    "per1=Personel().tanimla(isim=\"Esma\",soyisim=\"Sert\",maas=25000)\n",
    "per2=Personel().tanimla(\"Mary\",'Smith',40000)\n",
    "\n",
    "\n",
    "print(per1.ad)\n",
    "print(per1.soyad)\n",
    "print(per1.price)\n",
    "print(per1.eposta)\n",
    "print(per2.ad)\n",
    "print(per2.soyad)\n",
    "print(per2.price)\n",
    "print(per2.eposta)"
   ]
  },
  {
   "cell_type": "code",
   "execution_count": 6,
   "metadata": {},
   "outputs": [
    {
     "name": "stdout",
     "output_type": "stream",
     "text": [
      "Esma\n",
      "Sert\n",
      "25000\n",
      "esma.sert@firma.com\n",
      "Mary\n",
      "Smith\n",
      "40000\n",
      "mary.smith@firma.com\n"
     ]
    }
   ],
   "source": [
    "class Personel:\n",
    "    def __init__(self,isim,soyisim,maas):\n",
    "        self.ad=isim\n",
    "        self.soyad=soyisim\n",
    "        self.price=maas\n",
    "        self.eposta=f\"{isim.lower()}.{soyisim.lower()}@firma.com\"\n",
    "       \n",
    "per1=Personel(isim=\"Esma\",soyisim=\"Sert\",maas=25000)\n",
    "per2=Personel(\"Mary\",'Smith',40000)\n",
    "\n",
    "\n",
    "print(per1.ad)\n",
    "print(per1.soyad)\n",
    "print(per1.price)\n",
    "print(per1.eposta)\n",
    "print(per2.ad)\n",
    "print(per2.soyad)\n",
    "print(per2.price)\n",
    "print(per2.eposta)"
   ]
  },
  {
   "cell_type": "code",
   "execution_count": 7,
   "metadata": {},
   "outputs": [
    {
     "name": "stdout",
     "output_type": "stream",
     "text": [
      "Esma\n",
      "Sert\n",
      "25000\n",
      "esma.sert@firma.com\n",
      "Mary\n",
      "Smith\n",
      "40000\n",
      "mary.smith@firma.com\n"
     ]
    }
   ],
   "source": [
    "class Personel:\n",
    "    def __init__(nesne,isim,soyisim,maas):\n",
    "        nesne.ad=isim\n",
    "        nesne.soyad=soyisim\n",
    "        nesne.price=maas\n",
    "        nesne.eposta=f\"{isim.lower()}.{soyisim.lower()}@firma.com\"\n",
    "\n",
    "per1=Personel(isim=\"Esma\",soyisim=\"Sert\",maas=25000)\n",
    "per2=Personel(\"Mary\",'Smith',40000)  \n",
    "\n",
    "print(per1.ad)\n",
    "print(per1.soyad)\n",
    "print(per1.price)\n",
    "print(per1.eposta)\n",
    "print(per2.ad)\n",
    "print(per2.soyad)\n",
    "print(per2.price)\n",
    "print(per2.eposta)"
   ]
  },
  {
   "cell_type": "code",
   "execution_count": 10,
   "metadata": {},
   "outputs": [
    {
     "name": "stdout",
     "output_type": "stream",
     "text": [
      "Esma Sert\n",
      "Mary Smith\n",
      "Esma Sert\n",
      "Mary Smith\n"
     ]
    }
   ],
   "source": [
    "class Personel:\n",
    "    def __init__(self,isim,soyisim,maas):\n",
    "        self.ad=isim\n",
    "        self.soyad=soyisim\n",
    "        self.price=maas\n",
    "        self.eposta=f\"{isim.lower()}.{soyisim.lower()}@firma.com\"\n",
    "\n",
    "    def tam_isim(self):\n",
    "        return f\"{self.ad} {self.soyad}\" \n",
    "\n",
    "per1=Personel(isim=\"Esma\",soyisim=\"Sert\",maas=25000)\n",
    "per2=Personel(\"Mary\",'Smith',40000)  \n",
    "\n",
    "\n",
    "\n",
    "print(per1.tam_isim())\n",
    "print(per2.tam_isim())\n",
    "\n",
    "\n",
    "print(Personel.tam_isim(per1))\n",
    "print(Personel.tam_isim(per2))\n"
   ]
  },
  {
   "cell_type": "code",
   "execution_count": 11,
   "metadata": {},
   "outputs": [
    {
     "name": "stdout",
     "output_type": "stream",
     "text": [
      "25000\n",
      "26250\n"
     ]
    }
   ],
   "source": [
    "class Personel:\n",
    "    zam_orani=1.05\n",
    "    def __init__(self,isim,soyisim,maas):\n",
    "        self.ad=isim\n",
    "        self.soyad=soyisim\n",
    "        self.price=maas\n",
    "        self.eposta=f\"{isim.lower()}.{soyisim.lower()}@firma.com\"\n",
    "\n",
    "    def tam_isim(self):\n",
    "        return f\"{self.ad} {self.soyad}\" \n",
    "    \n",
    "    def zam_uygula(self):\n",
    "        self.price=int(self.price*1.05)\n",
    "\n",
    "per1=Personel(isim=\"Esma\",soyisim=\"Sert\",maas=25000)\n",
    "per2=Personel(\"Mary\",'Smith',40000) \n",
    "\n",
    "print(per1.price)\n",
    "per1.zam_uygula()\n",
    "print(per1.price)"
   ]
  },
  {
   "cell_type": "code",
   "execution_count": 12,
   "metadata": {},
   "outputs": [
    {
     "name": "stdout",
     "output_type": "stream",
     "text": [
      "25000\n",
      "27500\n"
     ]
    }
   ],
   "source": [
    "class Personel:\n",
    "    zam_orani=1.1\n",
    "    def __init__(self,isim,soyisim,maas):\n",
    "        self.ad=isim\n",
    "        self.soyad=soyisim\n",
    "        self.price=maas\n",
    "        self.eposta=f\"{isim.lower()}.{soyisim.lower()}@firma.com\"\n",
    "\n",
    "    def tam_isim(self):\n",
    "        return f\"{self.ad} {self.soyad}\" \n",
    "    \n",
    "    def zam_uygula(self):\n",
    "        self.price=int(self.price*self.zam_orani)\n",
    "\n",
    "per1=Personel(isim=\"Esma\",soyisim=\"Sert\",maas=25000)\n",
    "per2=Personel(\"Mary\",'Smith',40000) \n",
    "\n",
    "print(per1.price)\n",
    "per1.zam_uygula()\n",
    "print(per1.price)"
   ]
  },
  {
   "cell_type": "code",
   "execution_count": 19,
   "metadata": {},
   "outputs": [
    {
     "name": "stdout",
     "output_type": "stream",
     "text": [
      "25000\n",
      "27500\n",
      "1.1\n",
      "1.1\n",
      "1.1\n",
      "{'ad': 'Esma', 'eposta': 'esma.sert@firma.com', 'price': 27500, 'soyad': 'Sert'}\n",
      "'-----------------------------'\n",
      "mappingproxy({'__dict__': <attribute '__dict__' of 'Personel' objects>,\n",
      "              '__doc__': None,\n",
      "              '__init__': <function Personel.__init__ at 0x0000020578B51000>,\n",
      "              '__module__': '__main__',\n",
      "              '__weakref__': <attribute '__weakref__' of 'Personel' objects>,\n",
      "              'tam_isim': <function Personel.tam_isim at 0x0000020578B50790>,\n",
      "              'zam_orani': 1.1,\n",
      "              'zam_uygula': <function Personel.zam_uygula at 0x0000020578B51630>})\n"
     ]
    }
   ],
   "source": [
    "class Personel:\n",
    "    zam_orani=1.1\n",
    "    def __init__(self,isim,soyisim,maas):\n",
    "        self.ad=isim\n",
    "        self.soyad=soyisim\n",
    "        self.price=maas\n",
    "        self.eposta=f\"{isim.lower()}.{soyisim.lower()}@firma.com\"\n",
    "\n",
    "    def tam_isim(self):\n",
    "        return f\"{self.ad} {self.soyad}\" \n",
    "    \n",
    "    def zam_uygula(self):\n",
    "        # self.price=int(self.price*Personel.zam_orani)\n",
    "        self.price=int(self.price*self.zam_orani)\n",
    "\n",
    "per1=Personel(isim=\"Esma\",soyisim=\"Sert\",maas=25000)\n",
    "per2=Personel(\"Mary\",'Smith',40000) \n",
    "\n",
    "print(per1.price)\n",
    "per1.zam_uygula()\n",
    "print(per1.price)\n",
    "\n",
    "print(Personel.zam_orani)\n",
    "print(per1.zam_orani)\n",
    "print(per2.zam_orani)\n",
    "\n",
    "from pprint import pprint\n",
    "pprint(per1.__dict__)\n",
    "\n",
    "pprint(\"-----------------------------\")\n",
    "\n",
    "pprint(Personel.__dict__)"
   ]
  },
  {
   "cell_type": "code",
   "execution_count": null,
   "metadata": {},
   "outputs": [],
   "source": []
  },
  {
   "cell_type": "code",
   "execution_count": null,
   "metadata": {},
   "outputs": [],
   "source": []
  },
  {
   "cell_type": "code",
   "execution_count": null,
   "metadata": {},
   "outputs": [],
   "source": []
  }
 ],
 "metadata": {
  "kernelspec": {
   "display_name": "Python 3",
   "language": "python",
   "name": "python3"
  },
  "language_info": {
   "codemirror_mode": {
    "name": "ipython",
    "version": 3
   },
   "file_extension": ".py",
   "mimetype": "text/x-python",
   "name": "python",
   "nbconvert_exporter": "python",
   "pygments_lexer": "ipython3",
   "version": "3.10.11"
  },
  "orig_nbformat": 4
 },
 "nbformat": 4,
 "nbformat_minor": 2
}
