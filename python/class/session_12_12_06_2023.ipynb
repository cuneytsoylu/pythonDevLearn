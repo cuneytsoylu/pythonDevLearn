{
 "cells": [
  {
   "attachments": {},
   "cell_type": "markdown",
   "metadata": {},
   "source": [
    "# LOOPS - While"
   ]
  },
  {
   "cell_type": "code",
   "execution_count": null,
   "metadata": {},
   "outputs": [],
   "source": [
    "\"Techpro\"\n"
   ]
  },
  {
   "cell_type": "code",
   "execution_count": null,
   "metadata": {},
   "outputs": [],
   "source": []
  },
  {
   "cell_type": "code",
   "execution_count": null,
   "metadata": {},
   "outputs": [],
   "source": [
    "# calistirma sonsuz dongu\n",
    "x=5\n",
    "while 10 > x :\n",
    "\n",
    "    print(\"bu dongu sonsuza kadar calisir\")"
   ]
  },
  {
   "cell_type": "code",
   "execution_count": 1,
   "metadata": {},
   "outputs": [
    {
     "name": "stdout",
     "output_type": "stream",
     "text": [
      "bu dongu sonsuza kadar calisir\n",
      "bu dongu sonsuza kadar calisir\n",
      "bu dongu sonsuza kadar calisir\n",
      "bu dongu sonsuza kadar calisir\n",
      "bu dongu sonsuza kadar calisir\n"
     ]
    }
   ],
   "source": [
    "x=5\n",
    "while 10 > x :\n",
    "\n",
    "    print(\"bu dongu sonsuza kadar calisir\")\n",
    "    x+=1 # x=x+1"
   ]
  },
  {
   "cell_type": "code",
   "execution_count": 9,
   "metadata": {},
   "outputs": [
    {
     "name": "stdout",
     "output_type": "stream",
     "text": [
      "1\n",
      "2\n",
      "3\n",
      "4\n",
      "5\n",
      "6\n",
      "7\n",
      "8\n",
      "9\n"
     ]
    }
   ],
   "source": [
    "x =1 \n",
    "while x < 10 :\n",
    "    print(x)\n",
    "    x+=1"
   ]
  },
  {
   "cell_type": "code",
   "execution_count": 10,
   "metadata": {},
   "outputs": [],
   "source": [
    "while False:\n",
    "    print(\"sanki calismayacak gibi\")"
   ]
  },
  {
   "cell_type": "code",
   "execution_count": null,
   "metadata": {},
   "outputs": [],
   "source": [
    "# calistirma. sonsuz dongu\n",
    "while True :\n",
    "    print(\"durdur durdurabilirsen\")"
   ]
  },
  {
   "cell_type": "code",
   "execution_count": 1,
   "metadata": {},
   "outputs": [
    {
     "name": "stdout",
     "output_type": "stream",
     "text": [
      "while dongusu condition False olana kadar calismaya devam eder\n"
     ]
    }
   ],
   "source": [
    "y =True\n",
    "\n",
    "while y :\n",
    "\n",
    "    print(\"while dongusu condition False olana kadar calismaya devam eder\")\n",
    "\n",
    "    y=False"
   ]
  },
  {
   "cell_type": "code",
   "execution_count": 3,
   "metadata": {},
   "outputs": [
    {
     "name": "stdout",
     "output_type": "stream",
     "text": [
      "0\n",
      "2\n",
      "4\n",
      "6\n",
      "8\n",
      "10\n"
     ]
    }
   ],
   "source": [
    "x = 0 \n",
    "while x < 11:\n",
    "    print(x)\n",
    "    x+=2\n",
    "\n",
    "\n",
    "\n"
   ]
  },
  {
   "cell_type": "code",
   "execution_count": 4,
   "metadata": {},
   "outputs": [
    {
     "name": "stdout",
     "output_type": "stream",
     "text": [
      "2\n",
      "4\n",
      "6\n",
      "8\n",
      "10\n",
      "12\n"
     ]
    }
   ],
   "source": [
    "x = 0 \n",
    "while x < 11:\n",
    "    x+=2\n",
    "    print(x)\n",
    "    "
   ]
  },
  {
   "cell_type": "code",
   "execution_count": null,
   "metadata": {},
   "outputs": [],
   "source": [
    "#calistirma\n",
    "y =True\n",
    "\n",
    "while y :\n",
    "\n",
    "    print(\"while dongusu condition False olana kadar calismaya devam eder\")\n",
    "\n",
    "y=False # dongu icinde olmadigi icin sonsuza gider\n",
    "print(\"bunu gostermez\")"
   ]
  },
  {
   "cell_type": "code",
   "execution_count": 6,
   "metadata": {},
   "outputs": [
    {
     "name": "stdout",
     "output_type": "stream",
     "text": [
      "0\n",
      "1\n",
      "2\n",
      "3\n",
      "4\n",
      "while dongusu burada bitti\n"
     ]
    }
   ],
   "source": [
    "x = 0\n",
    "\n",
    "while x<5:\n",
    "    print(x)\n",
    "    x+=1\n",
    "print(\"while dongusu burada bitti\")"
   ]
  },
  {
   "cell_type": "code",
   "execution_count": 8,
   "metadata": {},
   "outputs": [
    {
     "name": "stdout",
     "output_type": "stream",
     "text": [
      "0\n",
      "while dongusu burada bitti\n",
      "1\n",
      "while dongusu burada bitti\n",
      "2\n",
      "while dongusu burada bitti\n",
      "3\n",
      "while dongusu burada bitti\n",
      "4\n",
      "while dongusu burada bitti\n"
     ]
    }
   ],
   "source": [
    "x = 0\n",
    "\n",
    "while x<5:\n",
    "    print(x)\n",
    "    x+=1\n",
    "    print(\"while dongusu burada bitti\")\n"
   ]
  },
  {
   "cell_type": "code",
   "execution_count": 12,
   "metadata": {},
   "outputs": [
    {
     "name": "stdout",
     "output_type": "stream",
     "text": [
      "1\n",
      "4\n",
      "9\n",
      "16\n",
      "25\n",
      "dongu bitti\n"
     ]
    }
   ],
   "source": [
    "x =1\n",
    "while x<6:\n",
    "    print(x*x)\n",
    "    x+=1\n",
    "print(\"dongu bitti\")"
   ]
  },
  {
   "cell_type": "code",
   "execution_count": null,
   "metadata": {},
   "outputs": [],
   "source": [
    "X =1\n",
    "while 5>=x:\n",
    "    print(x**2)\n",
    "    x+=1\n",
    "print(\"dongu bitii\")    "
   ]
  },
  {
   "cell_type": "code",
   "execution_count": 17,
   "metadata": {},
   "outputs": [
    {
     "name": "stdout",
     "output_type": "stream",
     "text": [
      "1\n",
      "9\n",
      "36\n",
      "64\n",
      "121\n",
      "225\n"
     ]
    }
   ],
   "source": [
    "sayilar_listesi=[1,3,6,8,11,15]\n",
    "\n",
    "len_liste=len(sayilar_listesi)\n",
    "x=0\n",
    "while x <len_liste :\n",
    "    print(sayilar_listesi[x]**2)\n",
    "\n",
    "    x+=1\n"
   ]
  },
  {
   "cell_type": "code",
   "execution_count": 18,
   "metadata": {},
   "outputs": [
    {
     "name": "stdout",
     "output_type": "stream",
     "text": [
      "sanki bunu yazdirmaz\n"
     ]
    }
   ],
   "source": [
    "while []:\n",
    "    print(\"bos liste\")\n",
    "print(\"sanki bunu yazdirmaz\")    "
   ]
  },
  {
   "cell_type": "code",
   "execution_count": 19,
   "metadata": {},
   "outputs": [
    {
     "data": {
      "text/plain": [
       "False"
      ]
     },
     "execution_count": 19,
     "metadata": {},
     "output_type": "execute_result"
    }
   ],
   "source": [
    "bool ([])"
   ]
  },
  {
   "cell_type": "code",
   "execution_count": 23,
   "metadata": {},
   "outputs": [
    {
     "name": "stdout",
     "output_type": "stream",
     "text": [
      "15\n",
      "11\n",
      "8\n",
      "6\n",
      "3\n",
      "1\n",
      "dongu bitti\n"
     ]
    }
   ],
   "source": [
    "sayilar_listesi=[1,3,6,8,11,15]\n",
    "while sayilar_listesi:\n",
    "    print(sayilar_listesi[-1])\n",
    "    sayilar_listesi.pop()\n",
    "print(\"dongu bitti\")  "
   ]
  },
  {
   "cell_type": "code",
   "execution_count": 26,
   "metadata": {},
   "outputs": [
    {
     "name": "stdout",
     "output_type": "stream",
     "text": [
      "1\n",
      "3\n",
      "6\n",
      "8\n",
      "11\n",
      "15\n",
      "dongu bitti\n"
     ]
    }
   ],
   "source": [
    "sayilar_listesi=[1,3,6,8,11,15]\n",
    "while sayilar_listesi:\n",
    "    print(sayilar_listesi[0])\n",
    "    sayilar_listesi.remove(sayilar_listesi[0])\n",
    "print(\"dongu bitti\")"
   ]
  },
  {
   "cell_type": "code",
   "execution_count": 29,
   "metadata": {},
   "outputs": [
    {
     "name": "stdout",
     "output_type": "stream",
     "text": [
      "Girdiginiz sayi 60.Dogru bildiniz.Tebrikler\n",
      "oyun bitti\n"
     ]
    }
   ],
   "source": [
    "sayi=60\n",
    "\n",
    "y=True\n",
    "\n",
    "while y:\n",
    "\n",
    "    tahmin = int(input(\"bir sayi giriniz\"))\n",
    "\n",
    "    if sayi<tahmin :\n",
    "        print(f\"Girdiginiz sayi {tahmin}.Tahmini azalt\")\n",
    "    elif sayi>tahmin :\n",
    "        print(f\"Girdiginiz sayi {tahmin}.Tahmini yukselt\")    \n",
    "    else :\n",
    "        print(f\"Girdiginiz sayi {tahmin}.Dogru bildiniz.Tebrikler\")    \n",
    "        y=False\n",
    "print(\"oyun bitti\")        "
   ]
  },
  {
   "cell_type": "code",
   "execution_count": 34,
   "metadata": {},
   "outputs": [
    {
     "name": "stdout",
     "output_type": "stream",
     "text": [
      "Girdiginiz sayi 2.Tahmini yukselt\n",
      "Girdiginiz sayi 60.Dogru bildiniz.Tebrikler\n",
      "Oyun bitti. 2 kerede tahmin ettin\n"
     ]
    }
   ],
   "source": [
    "sayi=60\n",
    "\n",
    "y=True\n",
    "sayac=0\n",
    "while y:\n",
    "    sayac+=1\n",
    "    tahmin = int(input(\"bir sayi giriniz\"))\n",
    "\n",
    "    if sayi<tahmin :\n",
    "        print(f\"Girdiginiz sayi {tahmin}.Tahmini azalt\")\n",
    "    elif sayi>tahmin :\n",
    "        print(f\"Girdiginiz sayi {tahmin}.Tahmini yukselt\")    \n",
    "    else :\n",
    "        print(f\"Girdiginiz sayi {tahmin}.Dogru bildiniz.Tebrikler\")    \n",
    "        y=False\n",
    "print(f\"Oyun bitti. {sayac } kerede tahmin ettin\")"
   ]
  },
  {
   "attachments": {},
   "cell_type": "markdown",
   "metadata": {},
   "source": [
    "## random modulu"
   ]
  },
  {
   "cell_type": "code",
   "execution_count": 12,
   "metadata": {},
   "outputs": [],
   "source": [
    "import random"
   ]
  },
  {
   "cell_type": "code",
   "execution_count": 4,
   "metadata": {},
   "outputs": [
    {
     "data": {
      "text/plain": [
       "0.5596763987907452"
      ]
     },
     "execution_count": 4,
     "metadata": {},
     "output_type": "execute_result"
    }
   ],
   "source": [
    "random.random()"
   ]
  },
  {
   "cell_type": "code",
   "execution_count": 5,
   "metadata": {},
   "outputs": [
    {
     "data": {
      "text/plain": [
       "0.5811521325045647"
      ]
     },
     "execution_count": 5,
     "metadata": {},
     "output_type": "execute_result"
    }
   ],
   "source": [
    "random.seed(101)\n",
    "random.random()"
   ]
  },
  {
   "cell_type": "code",
   "execution_count": 16,
   "metadata": {},
   "outputs": [
    {
     "ename": "TypeError",
     "evalue": "Random.randint() missing 2 required positional arguments: 'a' and 'b'",
     "output_type": "error",
     "traceback": [
      "\u001b[1;31m---------------------------------------------------------------------------\u001b[0m",
      "\u001b[1;31mTypeError\u001b[0m                                 Traceback (most recent call last)",
      "Cell \u001b[1;32mIn[16], line 1\u001b[0m\n\u001b[1;32m----> 1\u001b[0m random\u001b[39m.\u001b[39;49mrandint()\n",
      "\u001b[1;31mTypeError\u001b[0m: Random.randint() missing 2 required positional arguments: 'a' and 'b'"
     ]
    }
   ],
   "source": [
    "random.randint()"
   ]
  },
  {
   "cell_type": "code",
   "execution_count": 15,
   "metadata": {},
   "outputs": [
    {
     "name": "stdout",
     "output_type": "stream",
     "text": [
      "Help on method randint in module random:\n",
      "\n",
      "randint(a, b) method of random.Random instance\n",
      "    Return random integer in range [a, b], including both end points.\n",
      "\n"
     ]
    }
   ],
   "source": [
    "help(random.randint)"
   ]
  },
  {
   "cell_type": "code",
   "execution_count": 17,
   "metadata": {},
   "outputs": [
    {
     "data": {
      "text/plain": [
       "6"
      ]
     },
     "execution_count": 17,
     "metadata": {},
     "output_type": "execute_result"
    }
   ],
   "source": [
    "random.randint(5,10)"
   ]
  },
  {
   "cell_type": "code",
   "execution_count": 2,
   "metadata": {},
   "outputs": [
    {
     "name": "stdout",
     "output_type": "stream",
     "text": [
      "Girdiginiz sayi 50.Tahmini azalt\n",
      "Girdiginiz sayi 40.Tahmini azalt\n",
      "Girdiginiz sayi 30.Tahmini azalt\n",
      "Girdiginiz sayi 20.Tahmini azalt\n",
      "Girdiginiz sayi 10.Tahmini azalt\n",
      "Girdiginiz sayi 5.Tahmini yukselt\n",
      "Girdiginiz sayi 6.Dogru bildiniz.Tebrikler\n",
      "Oyun bitti. 7 kerede tahmin ettin\n"
     ]
    }
   ],
   "source": [
    "import random\n",
    "import time\n",
    "sayi = random.randint(0,100)\n",
    "\n",
    "\n",
    "sayac=0\n",
    "while True:\n",
    "    sayac+=1\n",
    "    tahmin = int(input(\"bir sayi giriniz\"))\n",
    "\n",
    "    if sayi<tahmin :\n",
    "        print(f\"Girdiginiz sayi {tahmin}.Tahmini azalt\")\n",
    "        time.sleep(2)\n",
    "    elif sayi>tahmin :\n",
    "        print(f\"Girdiginiz sayi {tahmin}.Tahmini yukselt\") \n",
    "        time.sleep(2)   \n",
    "    else :\n",
    "        print(f\"Girdiginiz sayi {tahmin}.Dogru bildiniz.Tebrikler\") \n",
    "        time.sleep(2)   \n",
    "        break\n",
    "print(f\"Oyun bitti. {sayac } kerede tahmin ettin\")"
   ]
  },
  {
   "cell_type": "code",
   "execution_count": null,
   "metadata": {},
   "outputs": [],
   "source": [
    "import random\n",
    "import time\n",
    "\n",
    "sayı = random.randint(0,100)\n",
    "\n",
    "sayaç = 0\n",
    "\n",
    "while sayaç < 5:\n",
    "    sayaç += 1\n",
    "    tahmin = int(input(\"bir sayı giriniz\"))\n",
    "    time.sleep(1)\n",
    "\n",
    "    if sayı < tahmin:\n",
    "        print(f\"Girdiğiniz sayı: {tahmin}. Tahminini azalt\")\n",
    "        \n",
    "    elif sayı > tahmin:\n",
    "        print(f\"Girdiğiniz sayı: {tahmin}. Tahminini arttır\")\n",
    "        \n",
    "    else:\n",
    "        print(f\"Girdiğiniz sayı: {tahmin}. Doğru bildiniz. Tebrikler\")\n",
    "        print(f\"Oyun bitti. {sayaç} kerede tahmin ettin.\")\n",
    "        break\n",
    "    \n",
    "\n",
    "    if sayaç == 5:\n",
    "        print(f\"Doğru tahmin edemedin. sayı {sayı} idi\")\n",
    "        break\n"
   ]
  },
  {
   "cell_type": "code",
   "execution_count": 30,
   "metadata": {},
   "outputs": [
    {
     "name": "stdout",
     "output_type": "stream",
     "text": [
      "[22, 58, 46, 48, 50, 40] \n",
      " [1, 45, 69, 55, 47, 45, 49]\n"
     ]
    }
   ],
   "source": [
    "liste_1 = [1,45,22,69,58,55,47,45,46,48,49,50,40]\n",
    "\n",
    "odds=[]\n",
    "\n",
    "evens=[]\n",
    "\n",
    "x=0\n",
    "while x < len(liste_1):\n",
    "    if liste_1[x]%2==0:\n",
    "        evens.append(liste_1[x])\n",
    "      \n",
    "    else :\n",
    "        odds.append(liste_1[x])\n",
    "            \n",
    "    x+=1\n",
    "print(evens ,\"\\n\",odds)        "
   ]
  },
  {
   "cell_type": "code",
   "execution_count": 28,
   "metadata": {},
   "outputs": [
    {
     "name": "stdout",
     "output_type": "stream",
     "text": [
      "[22, 58, 46, 48, 50, 40]\n",
      "[1, 45, 69, 55, 47, 45, 49]\n"
     ]
    }
   ],
   "source": [
    "liste_1 = [1,45,22,69,58,55,47,45,46,48,49,50,40]\n",
    "odds = []\n",
    "evens = []\n",
    "while liste_1:\n",
    "    if liste_1[0] % 2 == 0:\n",
    "        evens.append(liste_1[0])\n",
    "        liste_1.remove(liste_1[0])\n",
    "    else:\n",
    "        odds.append(liste_1[0])\n",
    "        liste_1.remove(liste_1[0])\n",
    "print(evens)\n",
    "print(odds)"
   ]
  }
 ],
 "metadata": {
  "kernelspec": {
   "display_name": "Python 3",
   "language": "python",
   "name": "python3"
  },
  "language_info": {
   "codemirror_mode": {
    "name": "ipython",
    "version": 3
   },
   "file_extension": ".py",
   "mimetype": "text/x-python",
   "name": "python",
   "nbconvert_exporter": "python",
   "pygments_lexer": "ipython3",
   "version": "3.10.11"
  },
  "orig_nbformat": 4
 },
 "nbformat": 4,
 "nbformat_minor": 2
}
