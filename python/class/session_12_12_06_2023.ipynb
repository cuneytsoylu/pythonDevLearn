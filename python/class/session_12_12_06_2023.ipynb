{
 "cells": [
  {
   "attachments": {},
   "cell_type": "markdown",
   "metadata": {},
   "source": [
    "# LOOPS - While"
   ]
  },
  {
   "cell_type": "code",
   "execution_count": null,
   "metadata": {},
   "outputs": [],
   "source": [
    "\"Techpro\"\n"
   ]
  },
  {
   "cell_type": "code",
   "execution_count": null,
   "metadata": {},
   "outputs": [],
   "source": []
  },
  {
   "cell_type": "code",
   "execution_count": null,
   "metadata": {},
   "outputs": [],
   "source": [
    "# calistirma sonsuz dongu\n",
    "x=5\n",
    "while 10 > x :\n",
    "\n",
    "    print(\"bu dongu sonsuza kadar calisir\")"
   ]
  },
  {
   "cell_type": "code",
   "execution_count": 1,
   "metadata": {},
   "outputs": [
    {
     "name": "stdout",
     "output_type": "stream",
     "text": [
      "bu dongu sonsuza kadar calisir\n",
      "bu dongu sonsuza kadar calisir\n",
      "bu dongu sonsuza kadar calisir\n",
      "bu dongu sonsuza kadar calisir\n",
      "bu dongu sonsuza kadar calisir\n"
     ]
    }
   ],
   "source": [
    "x=5\n",
    "while 10 > x :\n",
    "\n",
    "    print(\"bu dongu sonsuza kadar calisir\")\n",
    "    x+=1 # x=x+1"
   ]
  },
  {
   "cell_type": "code",
   "execution_count": 9,
   "metadata": {},
   "outputs": [
    {
     "name": "stdout",
     "output_type": "stream",
     "text": [
      "1\n",
      "2\n",
      "3\n",
      "4\n",
      "5\n",
      "6\n",
      "7\n",
      "8\n",
      "9\n"
     ]
    }
   ],
   "source": [
    "x =1 \n",
    "while x < 10 :\n",
    "    print(x)\n",
    "    x+=1"
   ]
  },
  {
   "cell_type": "code",
   "execution_count": 10,
   "metadata": {},
   "outputs": [],
   "source": [
    "while False:\n",
    "    print(\"sanki calismayacak gibi\")"
   ]
  },
  {
   "cell_type": "code",
   "execution_count": null,
   "metadata": {},
   "outputs": [],
   "source": [
    "# calistirma. sonsuz dongu\n",
    "while True :\n",
    "    print(\"durdur durdurabilirsen\")"
   ]
  },
  {
   "cell_type": "code",
   "execution_count": 1,
   "metadata": {},
   "outputs": [
    {
     "name": "stdout",
     "output_type": "stream",
     "text": [
      "while dongusu condition False olana kadar calismaya devam eder\n"
     ]
    }
   ],
   "source": [
    "y =True\n",
    "\n",
    "while y :\n",
    "\n",
    "    print(\"while dongusu condition False olana kadar calismaya devam eder\")\n",
    "\n",
    "    y=False"
   ]
  },
  {
   "cell_type": "code",
   "execution_count": 3,
   "metadata": {},
   "outputs": [
    {
     "name": "stdout",
     "output_type": "stream",
     "text": [
      "0\n",
      "2\n",
      "4\n",
      "6\n",
      "8\n",
      "10\n"
     ]
    }
   ],
   "source": [
    "x = 0 \n",
    "while x < 11:\n",
    "    print(x)\n",
    "    x+=2\n",
    "\n",
    "\n",
    "\n"
   ]
  },
  {
   "cell_type": "code",
   "execution_count": 4,
   "metadata": {},
   "outputs": [
    {
     "name": "stdout",
     "output_type": "stream",
     "text": [
      "2\n",
      "4\n",
      "6\n",
      "8\n",
      "10\n",
      "12\n"
     ]
    }
   ],
   "source": [
    "x = 0 \n",
    "while x < 11:\n",
    "    x+=2\n",
    "    print(x)\n",
    "    "
   ]
  },
  {
   "cell_type": "code",
   "execution_count": null,
   "metadata": {},
   "outputs": [],
   "source": [
    "#calistirma\n",
    "y =True\n",
    "\n",
    "while y :\n",
    "\n",
    "    print(\"while dongusu condition False olana kadar calismaya devam eder\")\n",
    "\n",
    "y=False # dongu icinde olmadigi icin sonsuza gider\n",
    "print(\"bunu gostermez\")"
   ]
  },
  {
   "cell_type": "code",
   "execution_count": 6,
   "metadata": {},
   "outputs": [
    {
     "name": "stdout",
     "output_type": "stream",
     "text": [
      "0\n",
      "1\n",
      "2\n",
      "3\n",
      "4\n",
      "while dongusu burada bitti\n"
     ]
    }
   ],
   "source": [
    "x = 0\n",
    "\n",
    "while x<5:\n",
    "    print(x)\n",
    "    x+=1\n",
    "print(\"while dongusu burada bitti\")"
   ]
  },
  {
   "cell_type": "code",
   "execution_count": 8,
   "metadata": {},
   "outputs": [
    {
     "name": "stdout",
     "output_type": "stream",
     "text": [
      "0\n",
      "while dongusu burada bitti\n",
      "1\n",
      "while dongusu burada bitti\n",
      "2\n",
      "while dongusu burada bitti\n",
      "3\n",
      "while dongusu burada bitti\n",
      "4\n",
      "while dongusu burada bitti\n"
     ]
    }
   ],
   "source": [
    "x = 0\n",
    "\n",
    "while x<5:\n",
    "    print(x)\n",
    "    x+=1\n",
    "    print(\"while dongusu burada bitti\")\n"
   ]
  },
  {
   "cell_type": "code",
   "execution_count": 12,
   "metadata": {},
   "outputs": [
    {
     "name": "stdout",
     "output_type": "stream",
     "text": [
      "1\n",
      "4\n",
      "9\n",
      "16\n",
      "25\n",
      "dongu bitti\n"
     ]
    }
   ],
   "source": [
    "x =1\n",
    "while x<6:\n",
    "    print(x*x)\n",
    "    x+=1\n",
    "print(\"dongu bitti\")"
   ]
  },
  {
   "cell_type": "code",
   "execution_count": null,
   "metadata": {},
   "outputs": [],
   "source": [
    "X =1\n",
    "while 5>=x:\n",
    "    print(x**2)\n",
    "    x+=1\n",
    "print(\"dongu bitii\")    "
   ]
  },
  {
   "cell_type": "code",
   "execution_count": 17,
   "metadata": {},
   "outputs": [
    {
     "name": "stdout",
     "output_type": "stream",
     "text": [
      "1\n",
      "9\n",
      "36\n",
      "64\n",
      "121\n",
      "225\n"
     ]
    }
   ],
   "source": [
    "sayilar_listesi=[1,3,6,8,11,15]\n",
    "\n",
    "len_liste=len(sayilar_listesi)\n",
    "x=0\n",
    "while x <len_liste :\n",
    "    print(sayilar_listesi[x]**2)\n",
    "\n",
    "    x+=1\n"
   ]
  },
  {
   "cell_type": "code",
   "execution_count": null,
   "metadata": {},
   "outputs": [],
   "source": []
  },
  {
   "cell_type": "code",
   "execution_count": null,
   "metadata": {},
   "outputs": [],
   "source": []
  },
  {
   "cell_type": "code",
   "execution_count": null,
   "metadata": {},
   "outputs": [],
   "source": []
  }
 ],
 "metadata": {
  "kernelspec": {
   "display_name": "Python 3",
   "language": "python",
   "name": "python3"
  },
  "language_info": {
   "codemirror_mode": {
    "name": "ipython",
    "version": 3
   },
   "file_extension": ".py",
   "mimetype": "text/x-python",
   "name": "python",
   "nbconvert_exporter": "python",
   "pygments_lexer": "ipython3",
   "version": "3.10.11"
  },
  "orig_nbformat": 4
 },
 "nbformat": 4,
 "nbformat_minor": 2
}
