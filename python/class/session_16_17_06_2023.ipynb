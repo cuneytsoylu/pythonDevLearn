{
 "cells": [
  {
   "attachments": {},
   "cell_type": "markdown",
   "metadata": {},
   "source": [
    "amicable number\n",
    "\n",
    "220 >>>>> [1,2,4,5,10,11,20,22,44,55,110] sum >>>>284\n",
    "\n",
    "284 >>>> [1,2,4,71,142]"
   ]
  },
  {
   "cell_type": "code",
   "execution_count": null,
   "metadata": {},
   "outputs": [],
   "source": [
    "sayi=int(input(\"lutfen dostane sayisini merak ettiginiz sayiyi giriniz\"))\n",
    "\n",
    "for i in sayi:\n",
    "    sum(sayi%i)\n"
   ]
  },
  {
   "cell_type": "code",
   "execution_count": 14,
   "metadata": {},
   "outputs": [
    {
     "name": "stdout",
     "output_type": "stream",
     "text": [
      "girdiginiz sayi : 220,284 ile amicable sayidir\n",
      "284\n",
      "220\n"
     ]
    }
   ],
   "source": [
    "x=int(input(\"bir sayi giriniz\"))\n",
    "sum_i=0\n",
    "sum_j=0\n",
    "\n",
    "for i in range(1,x):\n",
    "    if x%i==0:\n",
    "        sum_i+=i\n",
    "\n",
    "for j in range(1,sum_i):\n",
    "\n",
    "    if sum_i % j==0:\n",
    "        sum_j+=j  \n",
    "if x==sum_j:\n",
    "    print(f\"girdiginiz sayi : {x},{sum_i} ile amicable sayidir\")           \n",
    "else:\n",
    "    print (f\"girdiginiz sayi : {x} yalniz sayidir sayidir\")     \n",
    "print(sum_i)        \n",
    "print(sum_j)         "
   ]
  },
  {
   "cell_type": "code",
   "execution_count": 1,
   "metadata": {},
   "outputs": [
    {
     "name": "stdout",
     "output_type": "stream",
     "text": [
      "girdiginiz sayi : 220,284 ile amicable sayidir\n"
     ]
    }
   ],
   "source": [
    "\n",
    "x=int(input(\"bir sayi giriniz\"))\n",
    "\n",
    "\n",
    "sum_i=sum([i for i in range(1,x) if x % i ==0]) \n",
    "sum_j=sum([j for j in range(1,sum_i) if sum_i%j==0])\n",
    "\n",
    "  \n",
    "if x==sum_j:\n",
    "    print(f\"girdiginiz sayi : {x},{sum_i} ile amicable sayidir\")           \n",
    "else:\n",
    "    print (f\"girdiginiz sayi : {x} yalniz sayidir sayidir\")   \n"
   ]
  },
  {
   "cell_type": "code",
   "execution_count": 3,
   "metadata": {},
   "outputs": [
    {
     "data": {
      "text/plain": [
       "284"
      ]
     },
     "execution_count": 3,
     "metadata": {},
     "output_type": "execute_result"
    }
   ],
   "source": [
    "sum((i for i in range(1,x) if x % i ==0))"
   ]
  },
  {
   "attachments": {},
   "cell_type": "markdown",
   "metadata": {},
   "source": [
    "# Functions()"
   ]
  },
  {
   "cell_type": "code",
   "execution_count": null,
   "metadata": {},
   "outputs": [],
   "source": [
    "def fonk_ismi(parametreler):\n",
    "    islem satirlari"
   ]
  },
  {
   "cell_type": "code",
   "execution_count": 3,
   "metadata": {},
   "outputs": [],
   "source": [
    "def kareler_toplami(x,y):\n",
    "    print(x**2 + y**2)"
   ]
  },
  {
   "cell_type": "code",
   "execution_count": 4,
   "metadata": {},
   "outputs": [
    {
     "name": "stdout",
     "output_type": "stream",
     "text": [
      "25\n"
     ]
    }
   ],
   "source": [
    "kareler_toplami(3,4)"
   ]
  },
  {
   "cell_type": "code",
   "execution_count": 8,
   "metadata": {},
   "outputs": [],
   "source": [
    "def multiply(a,b):\n",
    "    return a*b"
   ]
  },
  {
   "cell_type": "code",
   "execution_count": 9,
   "metadata": {},
   "outputs": [
    {
     "data": {
      "text/plain": [
       "6"
      ]
     },
     "execution_count": 9,
     "metadata": {},
     "output_type": "execute_result"
    }
   ],
   "source": [
    "multiply(3,2)"
   ]
  },
  {
   "cell_type": "code",
   "execution_count": null,
   "metadata": {},
   "outputs": [],
   "source": [
    "multiply()"
   ]
  },
  {
   "cell_type": "code",
   "execution_count": 10,
   "metadata": {},
   "outputs": [
    {
     "name": "stdout",
     "output_type": "stream",
     "text": [
      "25\n"
     ]
    }
   ],
   "source": [
    "aa=kareler_toplami(3,4)"
   ]
  },
  {
   "cell_type": "code",
   "execution_count": 11,
   "metadata": {},
   "outputs": [
    {
     "name": "stdout",
     "output_type": "stream",
     "text": [
      "None\n"
     ]
    }
   ],
   "source": [
    "print(aa)"
   ]
  },
  {
   "cell_type": "code",
   "execution_count": 12,
   "metadata": {},
   "outputs": [],
   "source": [
    "def neset_baba():\n",
    "    print(\"Kadinlar insandir biz insanoglu\")"
   ]
  },
  {
   "cell_type": "code",
   "execution_count": 14,
   "metadata": {},
   "outputs": [
    {
     "name": "stdout",
     "output_type": "stream",
     "text": [
      "Kadinlar insandir biz insanoglu\n"
     ]
    }
   ],
   "source": [
    "neset_baba()"
   ]
  },
  {
   "cell_type": "code",
   "execution_count": 17,
   "metadata": {},
   "outputs": [],
   "source": [
    "def hesap_makinesi(x,opr,y):\n",
    "    if opr==\"+\":\n",
    "        return x+y\n",
    "    elif opr==\"-\":\n",
    "        return x-y\n",
    "    elif opr==\"x\":\n",
    "        return x*y\n",
    "    elif opr==\"/\":\n",
    "        return x/y\n",
    "    else:\n",
    "        return \"hatali giris yaptiniz\""
   ]
  },
  {
   "cell_type": "code",
   "execution_count": 18,
   "metadata": {},
   "outputs": [
    {
     "data": {
      "text/plain": [
       "19"
      ]
     },
     "execution_count": 18,
     "metadata": {},
     "output_type": "execute_result"
    }
   ],
   "source": [
    "hesap_makinesi(4,\"+\",15)"
   ]
  },
  {
   "cell_type": "code",
   "execution_count": 19,
   "metadata": {},
   "outputs": [],
   "source": [
    "def my_len(iter):\n",
    "    \"\"\"girilen degerin uzunlugunu dondurur\"\"\"\n",
    "\n",
    "    counter=0\n",
    "    for i in iter:\n",
    "        counter+=1\n",
    "\n",
    "    return counter    "
   ]
  },
  {
   "cell_type": "code",
   "execution_count": 20,
   "metadata": {},
   "outputs": [
    {
     "data": {
      "text/plain": [
       "7"
      ]
     },
     "execution_count": 20,
     "metadata": {},
     "output_type": "execute_result"
    }
   ],
   "source": [
    "my_len(\"techpro\")"
   ]
  },
  {
   "cell_type": "code",
   "execution_count": 21,
   "metadata": {},
   "outputs": [
    {
     "data": {
      "text/plain": [
       "5"
      ]
     },
     "execution_count": 21,
     "metadata": {},
     "output_type": "execute_result"
    }
   ],
   "source": [
    "my_len([1,2,3,4,5])"
   ]
  },
  {
   "cell_type": "code",
   "execution_count": 22,
   "metadata": {},
   "outputs": [
    {
     "ename": "TypeError",
     "evalue": "'int' object is not iterable",
     "output_type": "error",
     "traceback": [
      "\u001b[1;31m---------------------------------------------------------------------------\u001b[0m",
      "\u001b[1;31mTypeError\u001b[0m                                 Traceback (most recent call last)",
      "Cell \u001b[1;32mIn[22], line 1\u001b[0m\n\u001b[1;32m----> 1\u001b[0m my_len(\u001b[39m123\u001b[39;49m)\n",
      "Cell \u001b[1;32mIn[19], line 5\u001b[0m, in \u001b[0;36mmy_len\u001b[1;34m(iter)\u001b[0m\n\u001b[0;32m      2\u001b[0m \u001b[39m\"\"\"girilen degerin uzunlugunu dondurur\"\"\"\u001b[39;00m\n\u001b[0;32m      4\u001b[0m counter\u001b[39m=\u001b[39m\u001b[39m0\u001b[39m\n\u001b[1;32m----> 5\u001b[0m \u001b[39mfor\u001b[39;00m i \u001b[39min\u001b[39;00m \u001b[39miter\u001b[39m:\n\u001b[0;32m      6\u001b[0m     counter\u001b[39m+\u001b[39m\u001b[39m=\u001b[39m\u001b[39m1\u001b[39m\n\u001b[0;32m      8\u001b[0m \u001b[39mreturn\u001b[39;00m counter\n",
      "\u001b[1;31mTypeError\u001b[0m: 'int' object is not iterable"
     ]
    }
   ],
   "source": [
    "my_len(123)"
   ]
  },
  {
   "cell_type": "code",
   "execution_count": 23,
   "metadata": {},
   "outputs": [
    {
     "data": {
      "text/plain": [
       "'girilen degerin uzunlugunu dondurur'"
      ]
     },
     "execution_count": 23,
     "metadata": {},
     "output_type": "execute_result"
    }
   ],
   "source": [
    "my_len.__doc__"
   ]
  },
  {
   "attachments": {},
   "cell_type": "markdown",
   "metadata": {},
   "source": [
    "## int bir sayinin len ini bulan fonk yazin."
   ]
  },
  {
   "cell_type": "code",
   "execution_count": 26,
   "metadata": {},
   "outputs": [],
   "source": [
    "def int_len(x):\n",
    "    x=str(x)\n",
    "    counter=0\n",
    "    for i in x:\n",
    "        counter+=1\n",
    "\n",
    "    return counter    "
   ]
  },
  {
   "cell_type": "code",
   "execution_count": 32,
   "metadata": {},
   "outputs": [
    {
     "data": {
      "text/plain": [
       "2"
      ]
     },
     "execution_count": 32,
     "metadata": {},
     "output_type": "execute_result"
    }
   ],
   "source": [
    "int_len(12)"
   ]
  },
  {
   "cell_type": "code",
   "execution_count": 39,
   "metadata": {},
   "outputs": [
    {
     "data": {
      "text/plain": [
       "9"
      ]
     },
     "execution_count": 39,
     "metadata": {},
     "output_type": "execute_result"
    }
   ],
   "source": [
    "int_len([1,2,3])"
   ]
  },
  {
   "cell_type": "code",
   "execution_count": null,
   "metadata": {},
   "outputs": [],
   "source": [
    "def len_int_2(x):\n",
    "\n",
    "    \"\"\"Bu fonksiyon integer ifadelerin uzunluğunu döndürür.\"\"\"\n",
    "    if str(x).isdigit():\n",
    "        counter = 0\n",
    "        for i in str(x):\n",
    "            counter += 1\n",
    "\n",
    "        return counter\n",
    "    else:\n",
    "        return \"int tipine uygun ifade giriniz\""
   ]
  },
  {
   "cell_type": "code",
   "execution_count": null,
   "metadata": {},
   "outputs": [],
   "source": [
    "# Bir cumle icerisin de gecen alfabetik karakterlerin kacar tane oldugunu bulalim\n",
    "\n",
    "\"Techpro education is the best\""
   ]
  },
  {
   "cell_type": "code",
   "execution_count": 44,
   "metadata": {},
   "outputs": [
    {
     "name": "stdout",
     "output_type": "stream",
     "text": [
      "{'a': 3, 'b': 3, 'c': 2}\n"
     ]
    }
   ],
   "source": [
    "def karakter_sayisi(cumle):\n",
    "    karakterler = {}\n",
    "    for i in cumle:\n",
    "        if i.isalpha():\n",
    "            if i in karakterler:\n",
    "                karakterler[i] += 1\n",
    "            else:\n",
    "                karakterler[i] = 1\n",
    "    return karakterler\n",
    "\n",
    "cumle = \"aaabbbcc\"\n",
    "print(karakter_sayisi(cumle))"
   ]
  },
  {
   "cell_type": "code",
   "execution_count": 49,
   "metadata": {},
   "outputs": [
    {
     "name": "stdout",
     "output_type": "stream",
     "text": [
      "{'T': 1, 'e': 4, 'c': 2, 'h': 2, 'p': 1, 'r': 1, 'o': 2, 'd': 1, 'u': 1, 'a': 1, 't': 3, 'i': 2, 'n': 1, 's': 2, 'b': 1}\n"
     ]
    }
   ],
   "source": [
    "sentence=\"Techpro education is the best\"\n",
    "\n",
    "my_dict=dict()\n",
    "\n",
    "for i in sentence :\n",
    "    if i.isalpha():\n",
    "        if i in my_dict:\n",
    "            my_dict[i]+=1\n",
    "        else:\n",
    "            my_dict[i]=1\n",
    "print(my_dict)                       "
   ]
  },
  {
   "cell_type": "code",
   "execution_count": 50,
   "metadata": {},
   "outputs": [],
   "source": [
    "def karakter_sayisi_bulma(sentence):\n",
    "\n",
    "    \"\"\"Bu fonksiyonun cümlenin içindeki alfabetik her karakterin sayısını döndürür.\"\"\"\n",
    "\n",
    "    my_dict = dict()\n",
    "\n",
    "    for i in sentence:\n",
    "        if i.isalpha():\n",
    "            if i in my_dict:\n",
    "                my_dict[i] += 1\n",
    "            else:\n",
    "                my_dict[i] = 1\n",
    "\n",
    "    return my_dict"
   ]
  },
  {
   "cell_type": "code",
   "execution_count": null,
   "metadata": {},
   "outputs": [],
   "source": []
  }
 ],
 "metadata": {
  "kernelspec": {
   "display_name": "base",
   "language": "python",
   "name": "python3"
  },
  "language_info": {
   "codemirror_mode": {
    "name": "ipython",
    "version": 3
   },
   "file_extension": ".py",
   "mimetype": "text/x-python",
   "name": "python",
   "nbconvert_exporter": "python",
   "pygments_lexer": "ipython3",
   "version": "3.10.9"
  },
  "orig_nbformat": 4
 },
 "nbformat": 4,
 "nbformat_minor": 2
}
