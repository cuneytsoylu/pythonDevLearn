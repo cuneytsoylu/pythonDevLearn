{
 "cells": [
  {
   "attachments": {},
   "cell_type": "markdown",
   "metadata": {},
   "source": [
    "## zip()"
   ]
  },
  {
   "cell_type": "code",
   "execution_count": 2,
   "metadata": {},
   "outputs": [],
   "source": [
    "a=[\"apple\",\"orange\",\"lemon\"]\n",
    "b=[1,2,3]"
   ]
  },
  {
   "cell_type": "code",
   "execution_count": 3,
   "metadata": {},
   "outputs": [
    {
     "data": {
      "text/plain": [
       "<zip at 0x2e2164d4240>"
      ]
     },
     "execution_count": 3,
     "metadata": {},
     "output_type": "execute_result"
    }
   ],
   "source": [
    "zip(a,b)"
   ]
  },
  {
   "cell_type": "code",
   "execution_count": 4,
   "metadata": {},
   "outputs": [
    {
     "data": {
      "text/plain": [
       "[('apple', 1), ('orange', 2), ('lemon', 3)]"
      ]
     },
     "execution_count": 4,
     "metadata": {},
     "output_type": "execute_result"
    }
   ],
   "source": [
    "list(zip(a,b))"
   ]
  },
  {
   "cell_type": "code",
   "execution_count": 5,
   "metadata": {},
   "outputs": [
    {
     "data": {
      "text/plain": [
       "(('apple', 1), ('orange', 2), ('lemon', 3))"
      ]
     },
     "execution_count": 5,
     "metadata": {},
     "output_type": "execute_result"
    }
   ],
   "source": [
    "tuple(zip(a,b))"
   ]
  },
  {
   "cell_type": "code",
   "execution_count": 6,
   "metadata": {},
   "outputs": [],
   "source": [
    "x=\"techpro\"\n",
    "y=\"enes\"\n",
    "z=\"ali\""
   ]
  },
  {
   "cell_type": "code",
   "execution_count": 7,
   "metadata": {},
   "outputs": [
    {
     "data": {
      "text/plain": [
       "[('t', 'e', 'a'), ('e', 'n', 'l'), ('c', 'e', 'i')]"
      ]
     },
     "execution_count": 7,
     "metadata": {},
     "output_type": "execute_result"
    }
   ],
   "source": [
    "list(zip(x,y,z))"
   ]
  },
  {
   "cell_type": "code",
   "execution_count": 8,
   "metadata": {},
   "outputs": [
    {
     "data": {
      "text/plain": [
       "[]"
      ]
     },
     "execution_count": 8,
     "metadata": {},
     "output_type": "execute_result"
    }
   ],
   "source": [
    "list(zip(\"techpro\",[1,2,3,4],[]))"
   ]
  },
  {
   "cell_type": "code",
   "execution_count": 9,
   "metadata": {},
   "outputs": [],
   "source": [
    "name=[\"murat\",\"enes\",\"koray\"]\n",
    "age=[35,25,23]\n",
    "job=[\"data_analyst\",\"python_developer\",\"data_scientist\"]"
   ]
  },
  {
   "cell_type": "code",
   "execution_count": 12,
   "metadata": {},
   "outputs": [
    {
     "name": "stdout",
     "output_type": "stream",
     "text": [
      "murat     35   data_analyst   \n",
      "enes      25   python_developer\n",
      "koray     23   data_scientist \n"
     ]
    }
   ],
   "source": [
    "for i,j,k in zip(name,age,job):\n",
    "    print(f\"{i:<10}{j:<5}{k:<15}\")"
   ]
  },
  {
   "cell_type": "code",
   "execution_count": 13,
   "metadata": {},
   "outputs": [
    {
     "name": "stdout",
     "output_type": "stream",
     "text": [
      "[('murat', 35, 'data_analyst'), ('enes', 25, 'python_developer'), ('koray', 23, 'data_scientist')]\n"
     ]
    }
   ],
   "source": [
    "print(list(zip(name,age,job)))"
   ]
  },
  {
   "cell_type": "code",
   "execution_count": 14,
   "metadata": {},
   "outputs": [
    {
     "name": "stdout",
     "output_type": "stream",
     "text": [
      "('murat', 35, 'data_analyst')\n",
      "('enes', 25, 'python_developer')\n",
      "('koray', 23, 'data_scientist')\n"
     ]
    }
   ],
   "source": [
    "for i in zip(name,age,job):\n",
    "    print(i)"
   ]
  },
  {
   "cell_type": "code",
   "execution_count": 1,
   "metadata": {},
   "outputs": [
    {
     "data": {
      "text/plain": [
       "100"
      ]
     },
     "execution_count": 1,
     "metadata": {},
     "output_type": "execute_result"
    }
   ],
   "source": [
    "liste_1=[\"techpro\",\"educatin\"]*50\n",
    "len(liste_1)"
   ]
  },
  {
   "cell_type": "code",
   "execution_count": 2,
   "metadata": {},
   "outputs": [
    {
     "data": {
      "text/plain": [
       "[(1, 'techpro'),\n",
       " (2, 'educatin'),\n",
       " (3, 'techpro'),\n",
       " (4, 'educatin'),\n",
       " (5, 'techpro'),\n",
       " (6, 'educatin'),\n",
       " (7, 'techpro'),\n",
       " (8, 'educatin'),\n",
       " (9, 'techpro'),\n",
       " (10, 'educatin'),\n",
       " (11, 'techpro'),\n",
       " (12, 'educatin'),\n",
       " (13, 'techpro'),\n",
       " (14, 'educatin'),\n",
       " (15, 'techpro'),\n",
       " (16, 'educatin'),\n",
       " (17, 'techpro'),\n",
       " (18, 'educatin'),\n",
       " (19, 'techpro'),\n",
       " (20, 'educatin'),\n",
       " (21, 'techpro'),\n",
       " (22, 'educatin'),\n",
       " (23, 'techpro'),\n",
       " (24, 'educatin'),\n",
       " (25, 'techpro'),\n",
       " (26, 'educatin'),\n",
       " (27, 'techpro'),\n",
       " (28, 'educatin'),\n",
       " (29, 'techpro'),\n",
       " (30, 'educatin'),\n",
       " (31, 'techpro'),\n",
       " (32, 'educatin'),\n",
       " (33, 'techpro'),\n",
       " (34, 'educatin'),\n",
       " (35, 'techpro'),\n",
       " (36, 'educatin'),\n",
       " (37, 'techpro'),\n",
       " (38, 'educatin'),\n",
       " (39, 'techpro'),\n",
       " (40, 'educatin'),\n",
       " (41, 'techpro'),\n",
       " (42, 'educatin'),\n",
       " (43, 'techpro'),\n",
       " (44, 'educatin'),\n",
       " (45, 'techpro'),\n",
       " (46, 'educatin'),\n",
       " (47, 'techpro'),\n",
       " (48, 'educatin'),\n",
       " (49, 'techpro'),\n",
       " (50, 'educatin'),\n",
       " (51, 'techpro'),\n",
       " (52, 'educatin'),\n",
       " (53, 'techpro'),\n",
       " (54, 'educatin'),\n",
       " (55, 'techpro'),\n",
       " (56, 'educatin'),\n",
       " (57, 'techpro'),\n",
       " (58, 'educatin'),\n",
       " (59, 'techpro'),\n",
       " (60, 'educatin'),\n",
       " (61, 'techpro'),\n",
       " (62, 'educatin'),\n",
       " (63, 'techpro'),\n",
       " (64, 'educatin'),\n",
       " (65, 'techpro'),\n",
       " (66, 'educatin'),\n",
       " (67, 'techpro'),\n",
       " (68, 'educatin'),\n",
       " (69, 'techpro'),\n",
       " (70, 'educatin'),\n",
       " (71, 'techpro'),\n",
       " (72, 'educatin'),\n",
       " (73, 'techpro'),\n",
       " (74, 'educatin'),\n",
       " (75, 'techpro'),\n",
       " (76, 'educatin'),\n",
       " (77, 'techpro'),\n",
       " (78, 'educatin'),\n",
       " (79, 'techpro'),\n",
       " (80, 'educatin'),\n",
       " (81, 'techpro'),\n",
       " (82, 'educatin'),\n",
       " (83, 'techpro'),\n",
       " (84, 'educatin'),\n",
       " (85, 'techpro'),\n",
       " (86, 'educatin'),\n",
       " (87, 'techpro'),\n",
       " (88, 'educatin'),\n",
       " (89, 'techpro'),\n",
       " (90, 'educatin'),\n",
       " (91, 'techpro'),\n",
       " (92, 'educatin'),\n",
       " (93, 'techpro'),\n",
       " (94, 'educatin'),\n",
       " (95, 'techpro'),\n",
       " (96, 'educatin'),\n",
       " (97, 'techpro'),\n",
       " (98, 'educatin'),\n",
       " (99, 'techpro'),\n",
       " (100, 'educatin')]"
      ]
     },
     "execution_count": 2,
     "metadata": {},
     "output_type": "execute_result"
    }
   ],
   "source": [
    "list(zip(range(1,101),liste_1))"
   ]
  },
  {
   "attachments": {},
   "cell_type": "markdown",
   "metadata": {},
   "source": [
    "# enumerate()"
   ]
  },
  {
   "cell_type": "code",
   "execution_count": 17,
   "metadata": {},
   "outputs": [
    {
     "data": {
      "text/plain": [
       "['apple', 'orange', 'lemon']"
      ]
     },
     "execution_count": 17,
     "metadata": {},
     "output_type": "execute_result"
    }
   ],
   "source": [
    "a"
   ]
  },
  {
   "cell_type": "code",
   "execution_count": 18,
   "metadata": {},
   "outputs": [
    {
     "ename": "SyntaxError",
     "evalue": "unmatched ')' (4074781944.py, line 1)",
     "output_type": "error",
     "traceback": [
      "\u001b[1;36m  Cell \u001b[1;32mIn[18], line 1\u001b[1;36m\u001b[0m\n\u001b[1;33m    enumerate)(a)\u001b[0m\n\u001b[1;37m             ^\u001b[0m\n\u001b[1;31mSyntaxError\u001b[0m\u001b[1;31m:\u001b[0m unmatched ')'\n"
     ]
    }
   ],
   "source": [
    "enumerate)(a)"
   ]
  },
  {
   "cell_type": "code",
   "execution_count": 19,
   "metadata": {},
   "outputs": [
    {
     "data": {
      "text/plain": [
       "[(0, 'apple'), (1, 'orange'), (2, 'lemon')]"
      ]
     },
     "execution_count": 19,
     "metadata": {},
     "output_type": "execute_result"
    }
   ],
   "source": [
    "list(enumerate(a))"
   ]
  },
  {
   "cell_type": "code",
   "execution_count": 20,
   "metadata": {},
   "outputs": [
    {
     "data": {
      "text/plain": [
       "[(1, 'techpro'),\n",
       " (2, 'educatin'),\n",
       " (3, 'techpro'),\n",
       " (4, 'educatin'),\n",
       " (5, 'techpro'),\n",
       " (6, 'educatin'),\n",
       " (7, 'techpro'),\n",
       " (8, 'educatin'),\n",
       " (9, 'techpro'),\n",
       " (10, 'educatin'),\n",
       " (11, 'techpro'),\n",
       " (12, 'educatin'),\n",
       " (13, 'techpro'),\n",
       " (14, 'educatin'),\n",
       " (15, 'techpro'),\n",
       " (16, 'educatin'),\n",
       " (17, 'techpro'),\n",
       " (18, 'educatin'),\n",
       " (19, 'techpro'),\n",
       " (20, 'educatin'),\n",
       " (21, 'techpro'),\n",
       " (22, 'educatin'),\n",
       " (23, 'techpro'),\n",
       " (24, 'educatin'),\n",
       " (25, 'techpro'),\n",
       " (26, 'educatin'),\n",
       " (27, 'techpro'),\n",
       " (28, 'educatin'),\n",
       " (29, 'techpro'),\n",
       " (30, 'educatin'),\n",
       " (31, 'techpro'),\n",
       " (32, 'educatin'),\n",
       " (33, 'techpro'),\n",
       " (34, 'educatin'),\n",
       " (35, 'techpro'),\n",
       " (36, 'educatin'),\n",
       " (37, 'techpro'),\n",
       " (38, 'educatin'),\n",
       " (39, 'techpro'),\n",
       " (40, 'educatin'),\n",
       " (41, 'techpro'),\n",
       " (42, 'educatin'),\n",
       " (43, 'techpro'),\n",
       " (44, 'educatin'),\n",
       " (45, 'techpro'),\n",
       " (46, 'educatin'),\n",
       " (47, 'techpro'),\n",
       " (48, 'educatin'),\n",
       " (49, 'techpro'),\n",
       " (50, 'educatin'),\n",
       " (51, 'techpro'),\n",
       " (52, 'educatin'),\n",
       " (53, 'techpro'),\n",
       " (54, 'educatin'),\n",
       " (55, 'techpro'),\n",
       " (56, 'educatin'),\n",
       " (57, 'techpro'),\n",
       " (58, 'educatin'),\n",
       " (59, 'techpro'),\n",
       " (60, 'educatin'),\n",
       " (61, 'techpro'),\n",
       " (62, 'educatin'),\n",
       " (63, 'techpro'),\n",
       " (64, 'educatin'),\n",
       " (65, 'techpro'),\n",
       " (66, 'educatin'),\n",
       " (67, 'techpro'),\n",
       " (68, 'educatin'),\n",
       " (69, 'techpro'),\n",
       " (70, 'educatin'),\n",
       " (71, 'techpro'),\n",
       " (72, 'educatin'),\n",
       " (73, 'techpro'),\n",
       " (74, 'educatin'),\n",
       " (75, 'techpro'),\n",
       " (76, 'educatin'),\n",
       " (77, 'techpro'),\n",
       " (78, 'educatin'),\n",
       " (79, 'techpro'),\n",
       " (80, 'educatin'),\n",
       " (81, 'techpro'),\n",
       " (82, 'educatin'),\n",
       " (83, 'techpro'),\n",
       " (84, 'educatin'),\n",
       " (85, 'techpro'),\n",
       " (86, 'educatin'),\n",
       " (87, 'techpro'),\n",
       " (88, 'educatin'),\n",
       " (89, 'techpro'),\n",
       " (90, 'educatin'),\n",
       " (91, 'techpro'),\n",
       " (92, 'educatin'),\n",
       " (93, 'techpro'),\n",
       " (94, 'educatin'),\n",
       " (95, 'techpro'),\n",
       " (96, 'educatin'),\n",
       " (97, 'techpro'),\n",
       " (98, 'educatin'),\n",
       " (99, 'techpro'),\n",
       " (100, 'educatin')]"
      ]
     },
     "execution_count": 20,
     "metadata": {},
     "output_type": "execute_result"
    }
   ],
   "source": [
    "list(enumerate(liste_1,1))"
   ]
  },
  {
   "cell_type": "code",
   "execution_count": 21,
   "metadata": {},
   "outputs": [
    {
     "data": {
      "text/plain": [
       "{('apple', 1), ('lemon', 3), ('orange', 2)}"
      ]
     },
     "execution_count": 21,
     "metadata": {},
     "output_type": "execute_result"
    }
   ],
   "source": [
    "set(zip(a,b))"
   ]
  },
  {
   "cell_type": "code",
   "execution_count": 22,
   "metadata": {},
   "outputs": [
    {
     "data": {
      "text/plain": [
       "{'apple': 1, 'orange': 2, 'lemon': 3}"
      ]
     },
     "execution_count": 22,
     "metadata": {},
     "output_type": "execute_result"
    }
   ],
   "source": [
    "dict(zip(a,b))"
   ]
  },
  {
   "cell_type": "code",
   "execution_count": 23,
   "metadata": {},
   "outputs": [
    {
     "ename": "ValueError",
     "evalue": "dictionary update sequence element #0 has length 3; 2 is required",
     "output_type": "error",
     "traceback": [
      "\u001b[1;31m---------------------------------------------------------------------------\u001b[0m",
      "\u001b[1;31mValueError\u001b[0m                                Traceback (most recent call last)",
      "Cell \u001b[1;32mIn[23], line 1\u001b[0m\n\u001b[1;32m----> 1\u001b[0m \u001b[39mdict\u001b[39;49m(\u001b[39mzip\u001b[39;49m(x,y,z))\n",
      "\u001b[1;31mValueError\u001b[0m: dictionary update sequence element #0 has length 3; 2 is required"
     ]
    }
   ],
   "source": [
    "dict(zip(x,y,z))"
   ]
  },
  {
   "attachments": {},
   "cell_type": "markdown",
   "metadata": {},
   "source": [
    "### Soru1: Liste icerisindeki en kucuk ve en buyuk sayilar arasindaki kayip sayilari bulun"
   ]
  },
  {
   "cell_type": "code",
   "execution_count": 24,
   "metadata": {},
   "outputs": [],
   "source": [
    "num = [48, 10, 11, 21, 36, 5, 6, 52, 28, 29,\n",
    "       53, 54, 45, 19, 20, 47, 55, 39, 41, 7,\n",
    "       9, 17, 26, 27, 42, 22, 37, 51, 46, 18,\n",
    "       44, 30, 34, 13, 15, 35, 33, 16, 50, 24]"
   ]
  },
  {
   "cell_type": "code",
   "execution_count": 29,
   "metadata": {},
   "outputs": [
    {
     "name": "stdout",
     "output_type": "stream",
     "text": [
      "8\n",
      "12\n",
      "14\n",
      "23\n",
      "25\n",
      "31\n",
      "32\n",
      "38\n",
      "40\n",
      "43\n",
      "49\n"
     ]
    }
   ],
   "source": [
    "num = [48, 10, 11, 21, 36, 5, 6, 52, 28, 29,\n",
    "       53, 54, 45, 19, 20, 47, 55, 39, 41, 7,\n",
    "       9, 17, 26, 27, 42, 22, 37, 51, 46, 18,\n",
    "       44, 30, 34, 13, 15, 35, 33, 16, 50, 24]\n",
    "for i in range(min(num),max(num)):\n",
    "    if  i in num:\n",
    "        continue\n",
    "    else:\n",
    "        print(i)\n",
    "    "
   ]
  },
  {
   "cell_type": "code",
   "execution_count": 30,
   "metadata": {},
   "outputs": [
    {
     "name": "stdout",
     "output_type": "stream",
     "text": [
      "[8, 12, 14, 23, 25, 31, 32, 38, 40, 43, 49]\n"
     ]
    }
   ],
   "source": [
    "empty_list=[]\n",
    "\n",
    "for i in range(min(num),max(num)):\n",
    "    if i not in num:\n",
    "        empty_list.append(i)\n",
    "print(empty_list)        "
   ]
  },
  {
   "cell_type": "code",
   "execution_count": 32,
   "metadata": {},
   "outputs": [
    {
     "data": {
      "text/plain": [
       "{8, 12, 14, 23, 25, 31, 32, 38, 40, 43, 49}"
      ]
     },
     "execution_count": 32,
     "metadata": {},
     "output_type": "execute_result"
    }
   ],
   "source": [
    "set(range(min(num),max(num)+1))-set(num)\n"
   ]
  },
  {
   "cell_type": "code",
   "execution_count": 33,
   "metadata": {},
   "outputs": [
    {
     "data": {
      "text/plain": [
       "{8, 12, 14, 23, 25, 31, 32, 38, 40, 43, 49}"
      ]
     },
     "execution_count": 33,
     "metadata": {},
     "output_type": "execute_result"
    }
   ],
   "source": [
    "# 3 ncü yöntem\n",
    "full_set = set(range(min(num), max(num)+1))\n",
    "num_set = set(num)\n",
    "full_set - num_set"
   ]
  },
  {
   "cell_type": "code",
   "execution_count": 34,
   "metadata": {},
   "outputs": [],
   "source": [
    "liste_2 = [1,4,8,25,96,88,44,75,36,27,24,15]"
   ]
  },
  {
   "cell_type": "code",
   "execution_count": 43,
   "metadata": {},
   "outputs": [
    {
     "name": "stdout",
     "output_type": "stream",
     "text": [
      "[1, 4, 3, 16, 5, 36]\n"
     ]
    }
   ],
   "source": [
    "liste_2 = [1,2,3,4,5,6]\n",
    "liste=[]\n",
    "\n",
    "for i in liste_2:\n",
    "    if i%2==0:\n",
    "       liste.append(i*i)\n",
    "    if i%2==1:\n",
    "       liste.append(i)   \n",
    "print (liste)     "
   ]
  },
  {
   "attachments": {},
   "cell_type": "markdown",
   "metadata": {},
   "source": [
    "# List Comprehension"
   ]
  },
  {
   "cell_type": "code",
   "execution_count": 45,
   "metadata": {},
   "outputs": [
    {
     "name": "stdout",
     "output_type": "stream",
     "text": [
      "[1, 4, 9, 16, 25]\n"
     ]
    }
   ],
   "source": [
    "liste_3=[1,2,3,4,5]\n",
    "empty_list=[]\n",
    "for i in liste_3:\n",
    "    empty_list.append(i**2)\n",
    "print(empty_list)    "
   ]
  },
  {
   "cell_type": "code",
   "execution_count": 46,
   "metadata": {},
   "outputs": [
    {
     "data": {
      "text/plain": [
       "[1, 4, 9, 16, 25]"
      ]
     },
     "execution_count": 46,
     "metadata": {},
     "output_type": "execute_result"
    }
   ],
   "source": [
    "[   i**2     for i in liste_3 ]"
   ]
  },
  {
   "cell_type": "code",
   "execution_count": 47,
   "metadata": {},
   "outputs": [
    {
     "data": {
      "text/plain": [
       "['renault*', 'fiat?!', 'ford?!']"
      ]
     },
     "execution_count": 47,
     "metadata": {},
     "output_type": "execute_result"
    }
   ],
   "source": [
    "liste_4 = [\"renault*\",\"fiat?!\",\"ford?!\"]\n",
    "liste_4"
   ]
  },
  {
   "cell_type": "code",
   "execution_count": 49,
   "metadata": {},
   "outputs": [
    {
     "name": "stdout",
     "output_type": "stream",
     "text": [
      "['renault', 'fiat', 'ford']\n"
     ]
    }
   ],
   "source": [
    "new_list=[]\n",
    "for i in liste_4:\n",
    "    new_list.append(i.replace(\"*\",\"\").replace(\"?\",\"\").replace(\"!\",\"\")) \n",
    "print(new_list)    \n"
   ]
  },
  {
   "cell_type": "code",
   "execution_count": 51,
   "metadata": {},
   "outputs": [
    {
     "data": {
      "text/plain": [
       "['renault', 'fiat', 'ford']"
      ]
     },
     "execution_count": 51,
     "metadata": {},
     "output_type": "execute_result"
    }
   ],
   "source": [
    "[i.replace(\"*\",\"\").replace(\"?\",\"\").replace(\"!\",\"\") for i in liste_4]"
   ]
  },
  {
   "cell_type": "code",
   "execution_count": 54,
   "metadata": {},
   "outputs": [
    {
     "data": {
      "text/plain": [
       "[1, 9, 25]"
      ]
     },
     "execution_count": 54,
     "metadata": {},
     "output_type": "execute_result"
    }
   ],
   "source": [
    "[   i**2    for i in liste_3 if i%2       ] "
   ]
  },
  {
   "cell_type": "code",
   "execution_count": 57,
   "metadata": {},
   "outputs": [
    {
     "data": {
      "text/plain": [
       "[1, 4, 3, 16, 5, 36]"
      ]
     },
     "execution_count": 57,
     "metadata": {},
     "output_type": "execute_result"
    }
   ],
   "source": [
    "[ i if i% 2==1  else i**2  for i in[1,2,3,4,5,6]       ]"
   ]
  },
  {
   "attachments": {},
   "cell_type": "markdown",
   "metadata": {},
   "source": [
    "## nested loops"
   ]
  },
  {
   "cell_type": "code",
   "execution_count": 58,
   "metadata": {},
   "outputs": [
    {
     "name": "stdout",
     "output_type": "stream",
     "text": [
      "Omer 1\n",
      "Omer 2\n",
      "Omer 3\n",
      "Omer 4\n",
      "Omer 5\n",
      "Eren 1\n",
      "Eren 2\n",
      "Eren 3\n",
      "Eren 4\n",
      "Eren 5\n",
      "Nazim 1\n",
      "Nazim 2\n",
      "Nazim 3\n",
      "Nazim 4\n",
      "Nazim 5\n"
     ]
    }
   ],
   "source": [
    "for i in [\"Omer\",\"Eren\",\"Nazim\"]:\n",
    "    for j in [1,2,3,4,5]:\n",
    "        print(i,j)"
   ]
  },
  {
   "cell_type": "code",
   "execution_count": 60,
   "metadata": {},
   "outputs": [
    {
     "name": "stdout",
     "output_type": "stream",
     "text": [
      "1 x 0=0\n",
      "1 x 1=1\n",
      "1 x 2=2\n",
      "1 x 3=3\n",
      "1 x 4=4\n",
      "1 x 5=5\n",
      "1 x 6=6\n",
      "1 x 7=7\n",
      "1 x 8=8\n",
      "1 x 9=9\n",
      "1 x 10=10\n"
     ]
    }
   ],
   "source": [
    "for i in range(1,2):\n",
    "    for j in range(0,11):\n",
    "        print(f\"{i} x {j}={i * j}\")"
   ]
  },
  {
   "cell_type": "code",
   "execution_count": 63,
   "metadata": {},
   "outputs": [
    {
     "name": "stdout",
     "output_type": "stream",
     "text": [
      "1 Cumali ****\n",
      "1 Sibel ****\n",
      "2 Cumali ****\n",
      "2 Sibel ****\n"
     ]
    }
   ],
   "source": [
    "for i in [1,2]:\n",
    "    for j in [\"Cumali\",\"Sibel\"]:\n",
    "        for k in [\"****\"]:\n",
    "            print(i,j,k)"
   ]
  },
  {
   "cell_type": "code",
   "execution_count": null,
   "metadata": {},
   "outputs": [],
   "source": [
    "# kullanicinin girdigi bir sayinin  Armstrong number olup olmadigini tespit eden bir algoritma olusturun"
   ]
  },
  {
   "cell_type": "code",
   "execution_count": null,
   "metadata": {},
   "outputs": [],
   "source": [
    "sayi=int(input(\"lutfen bir tamsayi giriniz\"))\n",
    "\n",
    "for i in sayi"
   ]
  },
  {
   "cell_type": "code",
   "execution_count": 64,
   "metadata": {},
   "outputs": [
    {
     "name": "stdout",
     "output_type": "stream",
     "text": [
      "153 bir Armstrong sayısıdır.\n"
     ]
    }
   ],
   "source": [
    "number = int(input(\"Bir sayi girin: \"))\n",
    "print(f\"{number} bir Armstrong sayisidir.\"\n",
    "       if number == sum(int(i) ** 3 for i in str(number)) else f\"{number} bir Armstrong sayisi degildir.\")"
   ]
  },
  {
   "cell_type": "code",
   "execution_count": null,
   "metadata": {},
   "outputs": [],
   "source": []
  },
  {
   "cell_type": "code",
   "execution_count": 68,
   "metadata": {},
   "outputs": [
    {
     "name": "stdout",
     "output_type": "stream",
     "text": [
      "153\n",
      "370\n",
      "371\n",
      "407\n"
     ]
    }
   ],
   "source": [
    "# 10 ile 1000 arasindaki armstrong sayilari bulun\n",
    "for number in range(10, 1000):\n",
    "    if number == sum(int(i) ** 3 \n",
    "        for i in str(number)):\n",
    "            print(number)"
   ]
  },
  {
   "cell_type": "code",
   "execution_count": 4,
   "metadata": {},
   "outputs": [
    {
     "data": {
      "text/plain": [
       "[153, 370, 371, 407]"
      ]
     },
     "execution_count": 4,
     "metadata": {},
     "output_type": "execute_result"
    }
   ],
   "source": [
    "# 10 ile 10000 arasindaki armstrong sayilari bulun\n",
    "[i for i in range(10, 10000) if i == sum(int(i) ** 3 for i in str(i))]"
   ]
  },
  {
   "cell_type": "code",
   "execution_count": null,
   "metadata": {},
   "outputs": [],
   "source": []
  },
  {
   "cell_type": "code",
   "execution_count": null,
   "metadata": {},
   "outputs": [],
   "source": []
  },
  {
   "cell_type": "code",
   "execution_count": null,
   "metadata": {},
   "outputs": [],
   "source": []
  },
  {
   "cell_type": "code",
   "execution_count": null,
   "metadata": {},
   "outputs": [],
   "source": []
  }
 ],
 "metadata": {
  "kernelspec": {
   "display_name": "Python 3",
   "language": "python",
   "name": "python3"
  },
  "language_info": {
   "codemirror_mode": {
    "name": "ipython",
    "version": 3
   },
   "file_extension": ".py",
   "mimetype": "text/x-python",
   "name": "python",
   "nbconvert_exporter": "python",
   "pygments_lexer": "ipython3",
   "version": "3.10.11"
  },
  "orig_nbformat": 4
 },
 "nbformat": 4,
 "nbformat_minor": 2
}
