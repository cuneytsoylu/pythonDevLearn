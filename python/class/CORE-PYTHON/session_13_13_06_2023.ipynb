{
 "cells": [
  {
   "attachments": {},
   "cell_type": "markdown",
   "metadata": {},
   "source": [
    "## min(),max()"
   ]
  },
  {
   "cell_type": "code",
   "execution_count": 2,
   "metadata": {},
   "outputs": [],
   "source": [
    "liste_1=[4,9,68,52,41,2,3,75,6]"
   ]
  },
  {
   "cell_type": "code",
   "execution_count": 3,
   "metadata": {},
   "outputs": [
    {
     "data": {
      "text/plain": [
       "2"
      ]
     },
     "execution_count": 3,
     "metadata": {},
     "output_type": "execute_result"
    }
   ],
   "source": [
    "min(liste_1)"
   ]
  },
  {
   "cell_type": "code",
   "execution_count": 4,
   "metadata": {},
   "outputs": [
    {
     "data": {
      "text/plain": [
       "75"
      ]
     },
     "execution_count": 4,
     "metadata": {},
     "output_type": "execute_result"
    }
   ],
   "source": [
    "max(liste_1)"
   ]
  },
  {
   "cell_type": "code",
   "execution_count": 5,
   "metadata": {},
   "outputs": [
    {
     "ename": "SyntaxError",
     "evalue": "invalid syntax. Perhaps you forgot a comma? (1586229631.py, line 1)",
     "output_type": "error",
     "traceback": [
      "\u001b[1;36m  Cell \u001b[1;32mIn[5], line 1\u001b[1;36m\u001b[0m\n\u001b[1;33m    min([1,2,3\"techpro\",\"education\"])\u001b[0m\n\u001b[1;37m             ^\u001b[0m\n\u001b[1;31mSyntaxError\u001b[0m\u001b[1;31m:\u001b[0m invalid syntax. Perhaps you forgot a comma?\n"
     ]
    }
   ],
   "source": [
    "min([1,2,3\"techpro\",\"education\"])"
   ]
  },
  {
   "cell_type": "code",
   "execution_count": 6,
   "metadata": {},
   "outputs": [
    {
     "data": {
      "text/plain": [
       "'world'"
      ]
     },
     "execution_count": 6,
     "metadata": {},
     "output_type": "execute_result"
    }
   ],
   "source": [
    "max([\"hello\",\"world\",\"techpro\"])"
   ]
  },
  {
   "cell_type": "code",
   "execution_count": 7,
   "metadata": {},
   "outputs": [
    {
     "data": {
      "text/plain": [
       "True"
      ]
     },
     "execution_count": 7,
     "metadata": {},
     "output_type": "execute_result"
    }
   ],
   "source": [
    "max([True,1])"
   ]
  },
  {
   "cell_type": "code",
   "execution_count": 8,
   "metadata": {},
   "outputs": [
    {
     "data": {
      "text/plain": [
       "True"
      ]
     },
     "execution_count": 8,
     "metadata": {},
     "output_type": "execute_result"
    }
   ],
   "source": [
    "max([True,1.0])"
   ]
  },
  {
   "cell_type": "code",
   "execution_count": 9,
   "metadata": {},
   "outputs": [
    {
     "data": {
      "text/plain": [
       "1"
      ]
     },
     "execution_count": 9,
     "metadata": {},
     "output_type": "execute_result"
    }
   ],
   "source": [
    "max([1,True])"
   ]
  },
  {
   "cell_type": "code",
   "execution_count": 10,
   "metadata": {},
   "outputs": [
    {
     "data": {
      "text/plain": [
       "'techpro'"
      ]
     },
     "execution_count": 10,
     "metadata": {},
     "output_type": "execute_result"
    }
   ],
   "source": [
    "max([\"hello\",\"World\",\"techpro\"])"
   ]
  },
  {
   "cell_type": "code",
   "execution_count": 11,
   "metadata": {},
   "outputs": [
    {
     "data": {
      "text/plain": [
       "87"
      ]
     },
     "execution_count": 11,
     "metadata": {},
     "output_type": "execute_result"
    }
   ],
   "source": [
    "ord(\"W\")"
   ]
  },
  {
   "cell_type": "code",
   "execution_count": 12,
   "metadata": {},
   "outputs": [
    {
     "data": {
      "text/plain": [
       "119"
      ]
     },
     "execution_count": 12,
     "metadata": {},
     "output_type": "execute_result"
    }
   ],
   "source": [
    "ord(\"w\")"
   ]
  },
  {
   "cell_type": "code",
   "execution_count": 14,
   "metadata": {},
   "outputs": [
    {
     "data": {
      "text/plain": [
       "'World'"
      ]
     },
     "execution_count": 14,
     "metadata": {},
     "output_type": "execute_result"
    }
   ],
   "source": [
    "max([\"hello\",\"World\",\"techpro\"], key=str.lower)"
   ]
  },
  {
   "cell_type": "code",
   "execution_count": 15,
   "metadata": {},
   "outputs": [
    {
     "data": {
      "text/plain": [
       "<function str.lower()>"
      ]
     },
     "execution_count": 15,
     "metadata": {},
     "output_type": "execute_result"
    }
   ],
   "source": [
    "\"Hello\".lower"
   ]
  },
  {
   "cell_type": "code",
   "execution_count": 16,
   "metadata": {},
   "outputs": [
    {
     "data": {
      "text/plain": [
       "'hello'"
      ]
     },
     "execution_count": 16,
     "metadata": {},
     "output_type": "execute_result"
    }
   ],
   "source": [
    "\"Hello\".lower()"
   ]
  },
  {
   "cell_type": "code",
   "execution_count": 21,
   "metadata": {},
   "outputs": [
    {
     "name": "stdout",
     "output_type": "stream",
     "text": [
      "-400\n",
      "325\n"
     ]
    }
   ],
   "source": [
    "sayilar_listesi = [1, 4, 56, 18, 47, 96, 325, 1, 5, 4, 7, 8, -8, -400, 0, 47]\n",
    "\n",
    "sayilar_listesi.sort()\n",
    "\n",
    "print(sayilar_listesi[0])\n",
    "print(sayilar_listesi[-1])\n",
    "\n",
    "\n",
    "\n"
   ]
  },
  {
   "cell_type": "code",
   "execution_count": 2,
   "metadata": {},
   "outputs": [
    {
     "name": "stdout",
     "output_type": "stream",
     "text": [
      "En küçük sayi: -400\n",
      "En büyük sayi: 325\n"
     ]
    }
   ],
   "source": [
    "\n",
    "sayilar_listesi = [1, 4, 56, 18, 47, 96, 325, 1, 5, 4, 7, 8, -8, -400, 0, 47]\n",
    "\n",
    "en_kucuk = sayilar_listesi[0]\n",
    "en_buyuk = sayilar_listesi[0]\n",
    "x = 0\n",
    "\n",
    "while x < len(sayilar_listesi):\n",
    "    if sayilar_listesi[x] < en_kucuk:\n",
    "        en_kucuk = sayilar_listesi[x]\n",
    "    if sayilar_listesi[x] > en_buyuk:\n",
    "        en_buyuk = sayilar_listesi[x]\n",
    "    x += 1\n",
    "\n",
    "print(\"En küçük sayi:\", en_kucuk)\n",
    "print(\"En büyük sayi:\", en_buyuk)\n"
   ]
  },
  {
   "attachments": {},
   "cell_type": "markdown",
   "metadata": {},
   "source": [
    "# LOOPS - for"
   ]
  },
  {
   "attachments": {},
   "cell_type": "markdown",
   "metadata": {},
   "source": [
    "for degisken in iterable :\n",
    "    kod satiri/satirlari"
   ]
  },
  {
   "cell_type": "code",
   "execution_count": 3,
   "metadata": {},
   "outputs": [
    {
     "name": "stdout",
     "output_type": "stream",
     "text": [
      "T\n",
      "E\n",
      "C\n",
      "H\n",
      "P\n",
      "R\n",
      "O\n"
     ]
    }
   ],
   "source": [
    "for i in \"techpro\":\n",
    "    print(i.upper())"
   ]
  },
  {
   "cell_type": "code",
   "execution_count": 4,
   "metadata": {},
   "outputs": [
    {
     "name": "stdout",
     "output_type": "stream",
     "text": [
      "1\n",
      "4\n",
      "9\n",
      "16\n",
      "25\n"
     ]
    }
   ],
   "source": [
    "for i in [1,2,3,4,5]:\n",
    "    print(i*i)\n",
    " "
   ]
  },
  {
   "cell_type": "code",
   "execution_count": 5,
   "metadata": {},
   "outputs": [
    {
     "name": "stdout",
     "output_type": "stream",
     "text": [
      "1\n",
      "4\n",
      "9\n",
      "16\n",
      "25\n"
     ]
    }
   ],
   "source": [
    "for i in (1,2,3,4,5):\n",
    "    print(i*i)"
   ]
  },
  {
   "cell_type": "code",
   "execution_count": 6,
   "metadata": {},
   "outputs": [
    {
     "ename": "TypeError",
     "evalue": "'int' object is not iterable",
     "output_type": "error",
     "traceback": [
      "\u001b[1;31m---------------------------------------------------------------------------\u001b[0m",
      "\u001b[1;31mTypeError\u001b[0m                                 Traceback (most recent call last)",
      "Cell \u001b[1;32mIn[6], line 1\u001b[0m\n\u001b[1;32m----> 1\u001b[0m \u001b[39mfor\u001b[39;00m i \u001b[39min\u001b[39;00m \u001b[39m2023\u001b[39m:\n\u001b[0;32m      2\u001b[0m     \u001b[39mprint\u001b[39m(i\u001b[39m*\u001b[39m\u001b[39m*\u001b[39m\u001b[39m2\u001b[39m)\n",
      "\u001b[1;31mTypeError\u001b[0m: 'int' object is not iterable"
     ]
    }
   ],
   "source": [
    "for i in 2023:\n",
    "    print(i**2)"
   ]
  },
  {
   "cell_type": "code",
   "execution_count": 10,
   "metadata": {},
   "outputs": [],
   "source": [
    "liste_2=[1,2,3,4,5]"
   ]
  },
  {
   "cell_type": "code",
   "execution_count": 11,
   "metadata": {},
   "outputs": [
    {
     "name": "stdout",
     "output_type": "stream",
     "text": [
      "1 4 9 16 25 "
     ]
    }
   ],
   "source": [
    "for sayi in liste_2:\n",
    "    print(sayi ** 2, end=' ')"
   ]
  },
  {
   "cell_type": "code",
   "execution_count": 16,
   "metadata": {},
   "outputs": [
    {
     "name": "stdout",
     "output_type": "stream",
     "text": [
      "1*4*9*16*25"
     ]
    }
   ],
   "source": [
    "liste_2 = [1, 2, 3, 4, 5]\n",
    "\n",
    "for i, sayi in enumerate(liste_2):\n",
    "    print(sayi ** 2, end='*' if i < len(liste_2) - 1 else '')"
   ]
  },
  {
   "cell_type": "code",
   "execution_count": 17,
   "metadata": {},
   "outputs": [
    {
     "name": "stdout",
     "output_type": "stream",
     "text": [
      "T-e-c-h-p-r-o\n"
     ]
    }
   ],
   "source": [
    "text = \"Techpro\"\n",
    "result = '-'.join(text)\n",
    "print(result)"
   ]
  },
  {
   "cell_type": "code",
   "execution_count": null,
   "metadata": {},
   "outputs": [],
   "source": [
    "\"Techpro\" \n",
    "\"T-e-c-h-p-r-o\" "
   ]
  },
  {
   "cell_type": "code",
   "execution_count": 19,
   "metadata": {},
   "outputs": [
    {
     "name": "stdout",
     "output_type": "stream",
     "text": [
      "T-e-c-h-p-r-o\n"
     ]
    }
   ],
   "source": [
    "empty_str =\"\"\n",
    "for i in \"Techpro\":\n",
    "    empty_str+=i + \"-\"\n",
    "print(empty_str.rstrip(\"-\"))"
   ]
  },
  {
   "cell_type": "code",
   "execution_count": 20,
   "metadata": {},
   "outputs": [
    {
     "name": "stdout",
     "output_type": "stream",
     "text": [
      "T\n",
      "T-e\n",
      "T-e-c\n",
      "T-e-c-h\n",
      "T-e-c-h-p\n",
      "T-e-c-h-p-r\n",
      "T-e-c-h-p-r-o\n"
     ]
    }
   ],
   "source": [
    "empty_str =\"\"\n",
    "for i in \"Techpro\":\n",
    "    empty_str+=i + \"-\"\n",
    "    print(empty_str.rstrip(\"-\"))"
   ]
  },
  {
   "cell_type": "code",
   "execution_count": 21,
   "metadata": {},
   "outputs": [
    {
     "data": {
      "text/plain": [
       "{1, 2, 3, 4, 5}"
      ]
     },
     "execution_count": 21,
     "metadata": {},
     "output_type": "execute_result"
    }
   ],
   "source": [
    "tuple_1=(1,2,3,4,5,5)\n",
    "set(tuple_1)"
   ]
  },
  {
   "cell_type": "code",
   "execution_count": 25,
   "metadata": {},
   "outputs": [],
   "source": [
    "empty_set=set()\n",
    "for i in tuple_1:\n",
    "    empty_set.add(i)\n",
    "    "
   ]
  },
  {
   "cell_type": "code",
   "execution_count": 26,
   "metadata": {},
   "outputs": [
    {
     "data": {
      "text/plain": [
       "{1, 2, 3, 4, 5}"
      ]
     },
     "execution_count": 26,
     "metadata": {},
     "output_type": "execute_result"
    }
   ],
   "source": [
    "empty_set"
   ]
  },
  {
   "cell_type": "code",
   "execution_count": 27,
   "metadata": {},
   "outputs": [],
   "source": [
    "dict_1={\"name\" : \"safiullah\",\"surname\":\"wahab\",\"age\":32}"
   ]
  },
  {
   "cell_type": "code",
   "execution_count": 28,
   "metadata": {},
   "outputs": [
    {
     "name": "stdout",
     "output_type": "stream",
     "text": [
      "name\n",
      "surname\n",
      "age\n"
     ]
    }
   ],
   "source": [
    "for i in dict_1:\n",
    "    print(i)"
   ]
  },
  {
   "cell_type": "code",
   "execution_count": 29,
   "metadata": {},
   "outputs": [
    {
     "name": "stdout",
     "output_type": "stream",
     "text": [
      "safiullah\n",
      "wahab\n",
      "32\n"
     ]
    }
   ],
   "source": [
    "for i in dict_1.values():\n",
    "    print(i)"
   ]
  },
  {
   "cell_type": "code",
   "execution_count": 31,
   "metadata": {},
   "outputs": [
    {
     "data": {
      "text/plain": [
       "dict_items([('name', 'safiullah'), ('surname', 'wahab'), ('age', 32)])"
      ]
     },
     "execution_count": 31,
     "metadata": {},
     "output_type": "execute_result"
    }
   ],
   "source": [
    "dict_1.items()"
   ]
  },
  {
   "cell_type": "code",
   "execution_count": 34,
   "metadata": {},
   "outputs": [
    {
     "name": "stdout",
     "output_type": "stream",
     "text": [
      "key :name,value:safiullah\n",
      "key :surname,value:wahab\n",
      "key :age,value:32\n"
     ]
    }
   ],
   "source": [
    "for i,j in dict_1.items():\n",
    "    print(f\"key :{i},value:{j}\")"
   ]
  },
  {
   "cell_type": "code",
   "execution_count": 43,
   "metadata": {},
   "outputs": [
    {
     "name": "stdout",
     "output_type": "stream",
     "text": [
      "key :name      ,value:safiullah\n",
      "key :surname   ,value:wahab\n",
      "key :age       ,value:32\n"
     ]
    }
   ],
   "source": [
    "for i,j in dict_1.items():\n",
    "    print(f\"key :{i:<10},value:{j}\")"
   ]
  },
  {
   "cell_type": "code",
   "execution_count": 44,
   "metadata": {},
   "outputs": [
    {
     "name": "stdout",
     "output_type": "stream",
     "text": [
      "key :      name,value:safiullah\n",
      "key :   surname,value:wahab\n",
      "key :       age,value:32\n"
     ]
    }
   ],
   "source": [
    "for i,j in dict_1.items():\n",
    "    print(f\"key :{i:>10},value:{j}\")"
   ]
  },
  {
   "cell_type": "code",
   "execution_count": 45,
   "metadata": {},
   "outputs": [
    {
     "name": "stdout",
     "output_type": "stream",
     "text": [
      "key :   name   ,value:safiullah\n",
      "key : surname  ,value:wahab\n",
      "key :   age    ,value:32\n"
     ]
    }
   ],
   "source": [
    "for i,j in dict_1.items():\n",
    "    print(f\"key :{i:^10},value:{j}\")"
   ]
  },
  {
   "cell_type": "code",
   "execution_count": 46,
   "metadata": {},
   "outputs": [
    {
     "name": "stdout",
     "output_type": "stream",
     "text": [
      "key :name      ,value:safiullah\n",
      "key :surname   ,value:wahab\n",
      "key :age       ,value:32\n"
     ]
    }
   ],
   "source": [
    "for i,j in dict_1.items():\n",
    "    print(f\"key :{i:10},value:{j}\")"
   ]
  },
  {
   "cell_type": "code",
   "execution_count": 47,
   "metadata": {},
   "outputs": [
    {
     "data": {
      "text/plain": [
       "[('name1', 'name2', 'name3'), ('halil', 'fatih', 'ediz'), (25, 30, 17)]"
      ]
     },
     "execution_count": 47,
     "metadata": {},
     "output_type": "execute_result"
    }
   ],
   "source": [
    "liste_3=[(\"name1\",\"name2\",\"name3\"),(\"halil\",\"fatih\",\"ediz\"),(25,30,17)]\n",
    "liste_3"
   ]
  },
  {
   "cell_type": "code",
   "execution_count": 53,
   "metadata": {},
   "outputs": [
    {
     "data": {
      "text/plain": [
       "[('name1', 'name2', 'name3'), ('halil', 'fatih', 'ediz'), (25, 30, 17)]"
      ]
     },
     "execution_count": 53,
     "metadata": {},
     "output_type": "execute_result"
    }
   ],
   "source": [
    "[(\"name1\",\"name2\",\"name3\"),(\"halil\",\"fatih\",\"ediz\"),(25,30,17)]"
   ]
  },
  {
   "cell_type": "code",
   "execution_count": 48,
   "metadata": {},
   "outputs": [
    {
     "name": "stdout",
     "output_type": "stream",
     "text": [
      "name1*name2*name3\n",
      "halil*fatih*ediz\n",
      "25*30*17\n"
     ]
    }
   ],
   "source": [
    "for i,j,k in liste_3:\n",
    "    print(i,j,k,sep=\"*\")"
   ]
  },
  {
   "cell_type": "code",
   "execution_count": 49,
   "metadata": {},
   "outputs": [
    {
     "name": "stdout",
     "output_type": "stream",
     "text": [
      "name1*name2\n",
      "halil*fatih\n",
      "25*30\n"
     ]
    }
   ],
   "source": [
    "for i,j,k in liste_3:\n",
    "    print(i,j,sep=\"*\")"
   ]
  },
  {
   "cell_type": "code",
   "execution_count": 50,
   "metadata": {},
   "outputs": [
    {
     "ename": "ValueError",
     "evalue": "too many values to unpack (expected 2)",
     "output_type": "error",
     "traceback": [
      "\u001b[1;31m---------------------------------------------------------------------------\u001b[0m",
      "\u001b[1;31mValueError\u001b[0m                                Traceback (most recent call last)",
      "Cell \u001b[1;32mIn[50], line 1\u001b[0m\n\u001b[1;32m----> 1\u001b[0m \u001b[39mfor\u001b[39;00m i,j \u001b[39min\u001b[39;00m liste_3:\n\u001b[0;32m      2\u001b[0m     \u001b[39mprint\u001b[39m(i,j,sep\u001b[39m=\u001b[39m\u001b[39m\"\u001b[39m\u001b[39m*\u001b[39m\u001b[39m\"\u001b[39m)\n",
      "\u001b[1;31mValueError\u001b[0m: too many values to unpack (expected 2)"
     ]
    }
   ],
   "source": [
    "for i,j in liste_3:\n",
    "    print(i,j,sep=\"*\")"
   ]
  },
  {
   "cell_type": "code",
   "execution_count": 51,
   "metadata": {},
   "outputs": [
    {
     "ename": "TypeError",
     "evalue": "'bool' object is not iterable",
     "output_type": "error",
     "traceback": [
      "\u001b[1;31m---------------------------------------------------------------------------\u001b[0m",
      "\u001b[1;31mTypeError\u001b[0m                                 Traceback (most recent call last)",
      "Cell \u001b[1;32mIn[51], line 1\u001b[0m\n\u001b[1;32m----> 1\u001b[0m \u001b[39mfor\u001b[39;00m i \u001b[39min\u001b[39;00m \u001b[39mTrue\u001b[39;00m:\n\u001b[0;32m      2\u001b[0m     \u001b[39mprint\u001b[39m(i)\n",
      "\u001b[1;31mTypeError\u001b[0m: 'bool' object is not iterable"
     ]
    }
   ],
   "source": [
    "for i in True:\n",
    "    print(i)"
   ]
  },
  {
   "cell_type": "code",
   "execution_count": null,
   "metadata": {},
   "outputs": [],
   "source": [
    "#sonsuz dongu calistirma\n",
    "liste_4=[1]\n",
    "for i in liste_4:\n",
    "    print(i)\n",
    "    liste_4.append(5)"
   ]
  },
  {
   "cell_type": "code",
   "execution_count": 54,
   "metadata": {},
   "outputs": [
    {
     "name": "stdout",
     "output_type": "stream",
     "text": [
      "hoca bizi cok seviyor\n",
      "hoca bizi cok seviyor\n",
      "hoca bizi cok seviyor\n",
      "hoca bizi cok seviyor\n",
      "hoca bizi cok seviyor\n",
      "hoca bizi cok seviyor\n",
      "hoca bizi cok seviyor\n",
      "hoca bizi cok seviyor\n",
      "hoca bizi cok seviyor\n",
      "hoca bizi cok seviyor\n",
      "hoca bizi cok seviyor\n",
      "hoca bizi cok seviyor\n",
      "hoca bizi cok seviyor\n",
      "hoca bizi cok seviyor\n",
      "hoca bizi cok seviyor\n",
      "hoca bizi cok seviyor\n",
      "hoca bizi cok seviyor\n",
      "hoca bizi cok seviyor\n",
      "hoca bizi cok seviyor\n",
      "hoca bizi cok seviyor\n",
      "hoca bizi cok seviyor\n",
      "hoca bizi cok seviyor\n",
      "hoca bizi cok seviyor\n",
      "hoca bizi cok seviyor\n",
      "hoca bizi cok seviyor\n",
      "hoca bizi cok seviyor\n",
      "hoca bizi cok seviyor\n",
      "hoca bizi cok seviyor\n",
      "hoca bizi cok seviyor\n",
      "hoca bizi cok seviyor\n",
      "hoca bizi cok seviyor\n",
      "hoca bizi cok seviyor\n",
      "hoca bizi cok seviyor\n",
      "hoca bizi cok seviyor\n",
      "hoca bizi cok seviyor\n",
      "hoca bizi cok seviyor\n",
      "hoca bizi cok seviyor\n",
      "hoca bizi cok seviyor\n",
      "hoca bizi cok seviyor\n",
      "hoca bizi cok seviyor\n",
      "hoca bizi cok seviyor\n",
      "hoca bizi cok seviyor\n",
      "hoca bizi cok seviyor\n",
      "hoca bizi cok seviyor\n",
      "hoca bizi cok seviyor\n",
      "hoca bizi cok seviyor\n",
      "hoca bizi cok seviyor\n",
      "hoca bizi cok seviyor\n",
      "hoca bizi cok seviyor\n",
      "hoca bizi cok seviyor\n"
     ]
    }
   ],
   "source": [
    "for i in range(50):\n",
    "    print(\"hoca bizi cok seviyor\")"
   ]
  },
  {
   "cell_type": "code",
   "execution_count": 55,
   "metadata": {},
   "outputs": [
    {
     "name": "stdout",
     "output_type": "stream",
     "text": [
      "1. hoca bize ceza verdi\n",
      "2. hoca bize ceza verdi\n",
      "3. hoca bize ceza verdi\n",
      "4. hoca bize ceza verdi\n",
      "5. hoca bize ceza verdi\n",
      "6. hoca bize ceza verdi\n",
      "7. hoca bize ceza verdi\n",
      "8. hoca bize ceza verdi\n",
      "9. hoca bize ceza verdi\n",
      "10. hoca bize ceza verdi\n",
      "11. hoca bize ceza verdi\n",
      "12. hoca bize ceza verdi\n",
      "13. hoca bize ceza verdi\n",
      "14. hoca bize ceza verdi\n",
      "15. hoca bize ceza verdi\n",
      "16. hoca bize ceza verdi\n",
      "17. hoca bize ceza verdi\n",
      "18. hoca bize ceza verdi\n",
      "19. hoca bize ceza verdi\n",
      "20. hoca bize ceza verdi\n",
      "21. hoca bize ceza verdi\n",
      "22. hoca bize ceza verdi\n",
      "23. hoca bize ceza verdi\n",
      "24. hoca bize ceza verdi\n",
      "25. hoca bize ceza verdi\n",
      "26. hoca bize ceza verdi\n",
      "27. hoca bize ceza verdi\n",
      "28. hoca bize ceza verdi\n",
      "29. hoca bize ceza verdi\n",
      "30. hoca bize ceza verdi\n",
      "31. hoca bize ceza verdi\n",
      "32. hoca bize ceza verdi\n",
      "33. hoca bize ceza verdi\n",
      "34. hoca bize ceza verdi\n",
      "35. hoca bize ceza verdi\n",
      "36. hoca bize ceza verdi\n",
      "37. hoca bize ceza verdi\n",
      "38. hoca bize ceza verdi\n",
      "39. hoca bize ceza verdi\n",
      "40. hoca bize ceza verdi\n",
      "41. hoca bize ceza verdi\n",
      "42. hoca bize ceza verdi\n",
      "43. hoca bize ceza verdi\n",
      "44. hoca bize ceza verdi\n",
      "45. hoca bize ceza verdi\n",
      "46. hoca bize ceza verdi\n",
      "47. hoca bize ceza verdi\n",
      "48. hoca bize ceza verdi\n",
      "49. hoca bize ceza verdi\n",
      "50. hoca bize ceza verdi\n"
     ]
    }
   ],
   "source": [
    "for i in range(1, 51):\n",
    "    print(f\"{i}. hoca bize ceza verdi\")"
   ]
  },
  {
   "cell_type": "code",
   "execution_count": 58,
   "metadata": {},
   "outputs": [
    {
     "name": "stdout",
     "output_type": "stream",
     "text": [
      "6  x 1  = 6\n",
      "6  x 2  = 12\n",
      "6  x 3  = 18\n",
      "6  x 4  = 24\n",
      "6  x 5  = 30\n",
      "6  x 6  = 36\n",
      "6  x 7  = 42\n",
      "6  x 8  = 48\n",
      "6  x 9  = 54\n",
      "6  x 10 = 60\n"
     ]
    }
   ],
   "source": [
    "#kullanicidan 1 ile 9 arasinda bir sayi girmsini isteyin ve girilen sayinin carpim tablosunu olusturun\n",
    "sayi = int(input(\"Lütfen 1 ile 9 arasinda bir sayi girin: \"))\n",
    "\n",
    "if 1 <= sayi <= 9:\n",
    "    for i in range(1, 11):\n",
    "        print(f\"{sayi:^2} x {i:^2} = {sayi * i}\")\n",
    "else:\n",
    "    print(\"Girdiğiniz sayi 1 ile 9 arasinda değil.\")"
   ]
  },
  {
   "cell_type": "code",
   "execution_count": 59,
   "metadata": {},
   "outputs": [
    {
     "name": "stdout",
     "output_type": "stream",
     "text": [
      "Girdiğiniz sayı 1 ile 9 arasında değil. Lütfen tekrar deneyin.\n",
      "6 x 1 = 6\n",
      "6 x 2 = 12\n",
      "6 x 3 = 18\n",
      "6 x 4 = 24\n",
      "6 x 5 = 30\n",
      "6 x 6 = 36\n",
      "6 x 7 = 42\n",
      "6 x 8 = 48\n",
      "6 x 9 = 54\n",
      "6 x 10 = 60\n"
     ]
    }
   ],
   "source": [
    "while True:\n",
    "    sayi = int(input(\"Lütfen 1 ile 9 arasinda bir sayi girin: \"))\n",
    "\n",
    "    if 1 <= sayi <= 9:\n",
    "        for i in range(1, 11):\n",
    "            print(f\"{sayi} x {i} = {sayi * i}\")\n",
    "        break\n",
    "    else:\n",
    "        print(\"Girdiğiniz sayi 1 ile 9 arasinda değil. Lütfen tekrar deneyin.\")"
   ]
  },
  {
   "cell_type": "code",
   "execution_count": 3,
   "metadata": {},
   "outputs": [
    {
     "name": "stdout",
     "output_type": "stream",
     "text": [
      "1 ile 9 arasinda bir sayi girmenizi istemiştim.\n",
      "2 x 1  = 2\n",
      "2 x 2  = 4\n",
      "2 x 3  = 6\n",
      "2 x 4  = 8\n",
      "2 x 5  = 10\n",
      "2 x 6  = 12\n",
      "2 x 7  = 14\n",
      "2 x 8  = 16\n",
      "2 x 9  = 18\n",
      "2 x 10 = 20\n"
     ]
    }
   ],
   "source": [
    "while True:\n",
    "    number = int(input(\"1 ile 9 arasında bir sayı girin\"))\n",
    "    if 1 <= number <= 9:\n",
    "       for i in range(1,11):\n",
    "            print(f\"{number} x {i:<2} = {number * i}\")\n",
    "       break\n",
    "    else:\n",
    "        print(\"1 ile 9 arasinda bir sayi girmenizi istemiştim.\")\n",
    "\n"
   ]
  },
  {
   "cell_type": "code",
   "execution_count": 4,
   "metadata": {},
   "outputs": [
    {
     "name": "stdout",
     "output_type": "stream",
     "text": [
      "CCoCodCode\n"
     ]
    }
   ],
   "source": [
    "text = \"Code\"\n",
    "result = \"\"\n",
    "\n",
    "for i in range(1, len(text) + 1):\n",
    "    result += text[:i]\n",
    "\n",
    "print(result)"
   ]
  },
  {
   "cell_type": "code",
   "execution_count": null,
   "metadata": {},
   "outputs": [],
   "source": []
  }
 ],
 "metadata": {
  "kernelspec": {
   "display_name": "Python 3",
   "language": "python",
   "name": "python3"
  },
  "language_info": {
   "codemirror_mode": {
    "name": "ipython",
    "version": 3
   },
   "file_extension": ".py",
   "mimetype": "text/x-python",
   "name": "python",
   "nbconvert_exporter": "python",
   "pygments_lexer": "ipython3",
   "version": "3.10.11"
  },
  "orig_nbformat": 4
 },
 "nbformat": 4,
 "nbformat_minor": 2
}
