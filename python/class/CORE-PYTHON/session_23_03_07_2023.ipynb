{
 "cells": [
  {
   "cell_type": "code",
   "execution_count": null,
   "metadata": {},
   "outputs": [],
   "source": [
    "dosya=open(\"yeni_dosya.txt\",\"w\",encoding=\"utf-8\")\n",
    "print(dosya)"
   ]
  },
  {
   "cell_type": "code",
   "execution_count": null,
   "metadata": {},
   "outputs": [],
   "source": [
    "dosya=open(\"yeni_dosya.txt\",\"w\",encoding=\"utf-8\")\n",
    "dosya.write(\"Ne yazmak istiyorsaniz yazin\")\n",
    "print(dosya)\n",
    "dosya.close()"
   ]
  },
  {
   "cell_type": "code",
   "execution_count": null,
   "metadata": {},
   "outputs": [],
   "source": [
    "file=open(\"yeni_dosya.txt\",\"a\",encoding=\"utf-8\")\n",
    "file.write(\"\\nYeni satira baslayalim\")\n",
    "file.close()"
   ]
  },
  {
   "cell_type": "code",
   "execution_count": null,
   "metadata": {},
   "outputs": [],
   "source": [
    "file=open(\"yeni_dosya.txt\",\"r\",encoding=\"utf-8\")\n",
    "result=file.read()\n",
    "print(result)"
   ]
  },
  {
   "cell_type": "code",
   "execution_count": null,
   "metadata": {},
   "outputs": [],
   "source": [
    "file=open(\"yeni_dosya.txt\",\"a\",encoding=\"utf-8\")\n",
    "file.write(\"\\nYeni satira baslayalim\")\n",
    "result=file.read()\n",
    "print(result)\n",
    "file.close()"
   ]
  },
  {
   "cell_type": "code",
   "execution_count": null,
   "metadata": {},
   "outputs": [],
   "source": [
    "file=open(\"yeni_dosya.txt\",\"r+\",encoding=\"utf-8\")\n",
    "result=file.read()\n",
    "print(result)\n",
    "file.write(\"\\nokuduktan sonra bunlari yaz\")\n",
    "file.close()\n",
    "\n",
    "file=open(\"yeni_dosya.txt\",\"r\",encoding=\"utf-8\")\n",
    "sonuc=file.read()\n",
    "print(sonuc)\n",
    "file.close()"
   ]
  },
  {
   "cell_type": "code",
   "execution_count": 1,
   "metadata": {},
   "outputs": [
    {
     "name": "stdout",
     "output_type": "stream",
     "text": [
      "Ne yazmak istiyorsaniz yazin\n",
      "Yeni satira baslayalim\n",
      "Yeni satira baslayalim\n",
      "okuduktan sonra bunlari yaz\n",
      "okuduktan sonra bunlari yaz\n",
      "okuduktan sonra bunlari yaz\n",
      "okuduktan sonra bunlari yaz\n",
      "okuduktan sonra bunlari yaz\n",
      "okuduktan sonra bunlari yaz\n",
      "son ornek\n",
      "son ornek\n",
      "son ornek\n",
      "son ornek\n",
      "son ornek\n",
      "Ne yazmak istiyorsaniz yazin\n",
      "Yeni satira baslayalim\n",
      "Yeni satira baslayalim\n",
      "okuduktan sonra bunlari yaz\n",
      "okuduktan sonra bunlari yaz\n",
      "okuduktan sonra bunlari yaz\n",
      "okuduktan sonra bunlari yaz\n",
      "okuduktan sonra bunlari yaz\n",
      "okuduktan sonra bunlari yaz\n",
      "son ornek\n",
      "son ornek\n",
      "son ornek\n",
      "son ornek\n",
      "son ornek\n",
      "son ornek\n"
     ]
    }
   ],
   "source": [
    "with open(\"yeni_dosya.txt\",\"r+\",encoding=\"utf-8\") as file:\n",
    "    content=file.read()\n",
    "    print(content)\n",
    "    file.write(\"\\nson ornek\")\n",
    "\n",
    "with open(\"yeni_dosya.txt\",\"r+\",encoding=\"utf-8\") as file:    \n",
    "    content=file.read()\n",
    "    print(content)"
   ]
  },
  {
   "cell_type": "code",
   "execution_count": null,
   "metadata": {},
   "outputs": [],
   "source": [
    "with open(\"yeni_dosya.txt\",\"r+\",encoding=\"utf-8\") as file:\n",
    "    file.write(\"\"\"\n",
    "    \n",
    "    \n",
    "    \n",
    "    \n",
    "    \n",
    "    \n",
    "    \n",
    "    \"\"\")"
   ]
  },
  {
   "cell_type": "code",
   "execution_count": null,
   "metadata": {},
   "outputs": [],
   "source": []
  },
  {
   "cell_type": "code",
   "execution_count": null,
   "metadata": {},
   "outputs": [],
   "source": []
  },
  {
   "cell_type": "code",
   "execution_count": null,
   "metadata": {},
   "outputs": [],
   "source": []
  },
  {
   "cell_type": "code",
   "execution_count": null,
   "metadata": {},
   "outputs": [],
   "source": []
  },
  {
   "cell_type": "code",
   "execution_count": null,
   "metadata": {},
   "outputs": [],
   "source": []
  },
  {
   "cell_type": "code",
   "execution_count": null,
   "metadata": {},
   "outputs": [],
   "source": []
  }
 ],
 "metadata": {
  "kernelspec": {
   "display_name": "Python 3",
   "language": "python",
   "name": "python3"
  },
  "language_info": {
   "codemirror_mode": {
    "name": "ipython",
    "version": 3
   },
   "file_extension": ".py",
   "mimetype": "text/x-python",
   "name": "python",
   "nbconvert_exporter": "python",
   "pygments_lexer": "ipython3",
   "version": "3.10.11"
  },
  "orig_nbformat": 4
 },
 "nbformat": 4,
 "nbformat_minor": 2
}
