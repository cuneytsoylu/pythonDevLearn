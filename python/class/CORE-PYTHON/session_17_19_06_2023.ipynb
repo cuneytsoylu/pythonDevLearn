{
 "cells": [
  {
   "attachments": {},
   "cell_type": "markdown",
   "metadata": {},
   "source": [
    "# Positional and Keyword Arguments"
   ]
  },
  {
   "cell_type": "code",
   "execution_count": 1,
   "metadata": {},
   "outputs": [],
   "source": [
    "def my_name(first_name,last_name):\n",
    "    print(f\"My name is {first_name} {last_name}\")"
   ]
  },
  {
   "cell_type": "code",
   "execution_count": 2,
   "metadata": {},
   "outputs": [
    {
     "name": "stdout",
     "output_type": "stream",
     "text": [
      "My name is sedat aslan\n"
     ]
    }
   ],
   "source": [
    "my_name(\"sedat\",\"aslan\")"
   ]
  },
  {
   "cell_type": "code",
   "execution_count": 3,
   "metadata": {},
   "outputs": [
    {
     "name": "stdout",
     "output_type": "stream",
     "text": [
      "My name is hikmet Erdogan\n"
     ]
    }
   ],
   "source": [
    "my_name(last_name=\"Erdogan\",first_name=\"hikmet\")"
   ]
  },
  {
   "cell_type": "code",
   "execution_count": 4,
   "metadata": {},
   "outputs": [
    {
     "ename": "TypeError",
     "evalue": "my_name() missing 1 required positional argument: 'last_name'",
     "output_type": "error",
     "traceback": [
      "\u001b[1;31m---------------------------------------------------------------------------\u001b[0m",
      "\u001b[1;31mTypeError\u001b[0m                                 Traceback (most recent call last)",
      "Cell \u001b[1;32mIn[4], line 1\u001b[0m\n\u001b[1;32m----> 1\u001b[0m my_name(\u001b[39m\"\u001b[39;49m\u001b[39menes\u001b[39;49m\u001b[39m\"\u001b[39;49m)\n",
      "\u001b[1;31mTypeError\u001b[0m: my_name() missing 1 required positional argument: 'last_name'"
     ]
    }
   ],
   "source": [
    "my_name(\"enes\")"
   ]
  },
  {
   "cell_type": "code",
   "execution_count": 5,
   "metadata": {},
   "outputs": [
    {
     "ename": "TypeError",
     "evalue": "must be str or None, not int",
     "output_type": "error",
     "traceback": [
      "\u001b[1;31m---------------------------------------------------------------------------\u001b[0m",
      "\u001b[1;31mTypeError\u001b[0m                                 Traceback (most recent call last)",
      "Cell \u001b[1;32mIn[5], line 1\u001b[0m\n\u001b[1;32m----> 1\u001b[0m \u001b[39m\"\u001b[39;49m\u001b[39ma b c d e f\u001b[39;49m\u001b[39m\"\u001b[39;49m\u001b[39m.\u001b[39;49msplit(\u001b[39m3\u001b[39;49m)\n",
      "\u001b[1;31mTypeError\u001b[0m: must be str or None, not int"
     ]
    }
   ],
   "source": [
    "\"a b c d e f\".split(3)"
   ]
  },
  {
   "cell_type": "code",
   "execution_count": 6,
   "metadata": {},
   "outputs": [
    {
     "data": {
      "text/plain": [
       "['a', 'b', 'c', 'd e f']"
      ]
     },
     "execution_count": 6,
     "metadata": {},
     "output_type": "execute_result"
    }
   ],
   "source": [
    "\"a b c d e f\".split(maxsplit=3)"
   ]
  },
  {
   "cell_type": "code",
   "execution_count": 7,
   "metadata": {},
   "outputs": [
    {
     "name": "stdout",
     "output_type": "stream",
     "text": [
      "ahmet*mehmet\n"
     ]
    }
   ],
   "source": [
    "print(\"ahmet\",\"mehmet\",sep=\"*\")"
   ]
  },
  {
   "cell_type": "code",
   "execution_count": 8,
   "metadata": {},
   "outputs": [],
   "source": [
    "def your_name(first_name,last_name=\"Erdogan\"):\n",
    "    print(f\"My name is {first_name} {last_name}\")"
   ]
  },
  {
   "cell_type": "code",
   "execution_count": 9,
   "metadata": {},
   "outputs": [
    {
     "name": "stdout",
     "output_type": "stream",
     "text": [
      "My name is hikmet emre\n"
     ]
    }
   ],
   "source": [
    "your_name(\"hikmet\",\"emre\")"
   ]
  },
  {
   "cell_type": "code",
   "execution_count": 10,
   "metadata": {},
   "outputs": [
    {
     "name": "stdout",
     "output_type": "stream",
     "text": [
      "My name is hikmet Erdogan\n"
     ]
    }
   ],
   "source": [
    "your_name(\"hikmet\")"
   ]
  },
  {
   "cell_type": "code",
   "execution_count": 11,
   "metadata": {},
   "outputs": [
    {
     "ename": "SyntaxError",
     "evalue": "non-default argument follows default argument (2613104346.py, line 1)",
     "output_type": "error",
     "traceback": [
      "\u001b[1;36m  Cell \u001b[1;32mIn[11], line 1\u001b[1;36m\u001b[0m\n\u001b[1;33m    def my_name2(first_name,second_name=\"Ali\",last_name):\u001b[0m\n\u001b[1;37m                                              ^\u001b[0m\n\u001b[1;31mSyntaxError\u001b[0m\u001b[1;31m:\u001b[0m non-default argument follows default argument\n"
     ]
    }
   ],
   "source": [
    "def my_name2(first_name,second_name=\"Ali\",last_name):\n",
    "    print(f\"My name is {first_name} {second_name} {last_name}\")"
   ]
  },
  {
   "cell_type": "code",
   "execution_count": 18,
   "metadata": {},
   "outputs": [],
   "source": [
    "def my_name2(first_name,last_name,second_name=\"Ali\"):\n",
    "    print(f\"My name is {first_name} {second_name} {last_name}\")"
   ]
  },
  {
   "cell_type": "code",
   "execution_count": 19,
   "metadata": {},
   "outputs": [
    {
     "name": "stdout",
     "output_type": "stream",
     "text": [
      "My name is Ahmet Salih Kayadibi\n"
     ]
    }
   ],
   "source": [
    "my_name2(\"Ahmet\",\"Kayadibi\",second_name=\"Salih\")"
   ]
  },
  {
   "cell_type": "code",
   "execution_count": 20,
   "metadata": {},
   "outputs": [
    {
     "name": "stdout",
     "output_type": "stream",
     "text": [
      "My name is Ahmet Salih Kayadibi\n"
     ]
    }
   ],
   "source": [
    "my_name2(\"Ahmet\",\"Kayadibi\",\"Salih\")"
   ]
  },
  {
   "cell_type": "code",
   "execution_count": 21,
   "metadata": {},
   "outputs": [
    {
     "name": "stdout",
     "output_type": "stream",
     "text": [
      "My name is Ahmet Ali Kayadibi\n"
     ]
    }
   ],
   "source": [
    "my_name2(\"Ahmet\",\"Kayadibi\")"
   ]
  },
  {
   "cell_type": "code",
   "execution_count": 23,
   "metadata": {},
   "outputs": [
    {
     "ename": "TypeError",
     "evalue": "my_name2() got multiple values for argument 'last_name'",
     "output_type": "error",
     "traceback": [
      "\u001b[1;31m---------------------------------------------------------------------------\u001b[0m",
      "\u001b[1;31mTypeError\u001b[0m                                 Traceback (most recent call last)",
      "Cell \u001b[1;32mIn[23], line 1\u001b[0m\n\u001b[1;32m----> 1\u001b[0m my_name2(\u001b[39m\"\u001b[39;49m\u001b[39mahmet\u001b[39;49m\u001b[39m\"\u001b[39;49m,\u001b[39m\"\u001b[39;49m\u001b[39mcuneyt\u001b[39;49m\u001b[39m\"\u001b[39;49m,last_name\u001b[39m=\u001b[39;49m\u001b[39m\"\u001b[39;49m\u001b[39memre\u001b[39;49m\u001b[39m\"\u001b[39;49m)\n",
      "\u001b[1;31mTypeError\u001b[0m: my_name2() got multiple values for argument 'last_name'"
     ]
    }
   ],
   "source": [
    "my_name2(\"ahmet\",\"cuneyt\",last_name=\"emre\")"
   ]
  },
  {
   "cell_type": "code",
   "execution_count": 26,
   "metadata": {},
   "outputs": [],
   "source": [
    "a = \"Adana\"\n",
    "b = \"I\"\n",
    "c = \"\\U00002764\""
   ]
  },
  {
   "cell_type": "code",
   "execution_count": 40,
   "metadata": {},
   "outputs": [],
   "source": [
    "def lover(pos1,pos2,pos3):\n",
    "    print(f\"{pos2}{pos3}{pos1}\")"
   ]
  },
  {
   "cell_type": "code",
   "execution_count": 41,
   "metadata": {},
   "outputs": [
    {
     "name": "stdout",
     "output_type": "stream",
     "text": [
      "I❤Adana\n"
     ]
    }
   ],
   "source": [
    "lover(a,b,c)"
   ]
  },
  {
   "cell_type": "code",
   "execution_count": 42,
   "metadata": {},
   "outputs": [
    {
     "data": {
      "text/plain": [
       "'AD❤NA'"
      ]
     },
     "execution_count": 42,
     "metadata": {},
     "output_type": "execute_result"
    }
   ],
   "source": [
    "\"AD\"+\"\\U00002764\"+\"NA\""
   ]
  },
  {
   "cell_type": "code",
   "execution_count": 47,
   "metadata": {},
   "outputs": [],
   "source": [
    "def tek_sayilar(a,b,c,d,e):\n",
    "\n",
    "#  \"\"\"Bu fonksiyon girilen 5 sayi icinden tek olanlari dondurur\"\"\"\n",
    " \n",
    "    tekler_listesi=[]\n",
    "    for i in a,b,c,d,e:\n",
    "        if i%2==1:\n",
    "            tekler_listesi.append(i)\n",
    "\n",
    "    return tekler_listesi      \n",
    "\n"
   ]
  },
  {
   "cell_type": "code",
   "execution_count": 48,
   "metadata": {},
   "outputs": [
    {
     "data": {
      "text/plain": [
       "[1, 3, 5]"
      ]
     },
     "execution_count": 48,
     "metadata": {},
     "output_type": "execute_result"
    }
   ],
   "source": [
    "tek_sayilar(1,2,3,4,5)"
   ]
  },
  {
   "cell_type": "code",
   "execution_count": 49,
   "metadata": {},
   "outputs": [
    {
     "ename": "TypeError",
     "evalue": "tek_sayilar() missing 2 required positional arguments: 'd' and 'e'",
     "output_type": "error",
     "traceback": [
      "\u001b[1;31m---------------------------------------------------------------------------\u001b[0m",
      "\u001b[1;31mTypeError\u001b[0m                                 Traceback (most recent call last)",
      "Cell \u001b[1;32mIn[49], line 1\u001b[0m\n\u001b[1;32m----> 1\u001b[0m tek_sayilar(\u001b[39m1\u001b[39;49m,\u001b[39m2\u001b[39;49m,\u001b[39m3\u001b[39;49m)\n",
      "\u001b[1;31mTypeError\u001b[0m: tek_sayilar() missing 2 required positional arguments: 'd' and 'e'"
     ]
    }
   ],
   "source": [
    "tek_sayilar(1,2,3)"
   ]
  },
  {
   "cell_type": "code",
   "execution_count": 60,
   "metadata": {},
   "outputs": [],
   "source": [
    "def tek_sayilar2(a,b,c,d,e):\n",
    "\n",
    "\n",
    "  # \"\"\"Bu fonksiyon girilen 5 sayi icinden tek olanlari dondurur\"\"\"\n",
    "    return[i for i in (a,b,c,d,e) if i % 2==1]\n",
    "\n",
    "       "
   ]
  },
  {
   "cell_type": "code",
   "execution_count": 63,
   "metadata": {},
   "outputs": [
    {
     "data": {
      "text/plain": [
       "[1, 3, 5]"
      ]
     },
     "execution_count": 63,
     "metadata": {},
     "output_type": "execute_result"
    }
   ],
   "source": [
    "tek_sayilar2(1,2,3,4,5)"
   ]
  },
  {
   "attachments": {},
   "cell_type": "markdown",
   "metadata": {},
   "source": [
    "# Arbitrary Number of Arguments(*args, **kwargs)"
   ]
  },
  {
   "cell_type": "code",
   "execution_count": 66,
   "metadata": {},
   "outputs": [],
   "source": [
    "def tek_sayilar3(* sayilar):\n",
    "\n",
    "#  \"\"\"Bu fonksiyon girilen 5 sayi icinden tek olanlari dondurur\"\"\"\n",
    " \n",
    "    tekler_listesi=[]\n",
    "    for i in sayilar:\n",
    "        if i%2==1:\n",
    "            tekler_listesi.append(i)\n",
    "\n",
    "    return tekler_listesi      \n"
   ]
  },
  {
   "cell_type": "code",
   "execution_count": 67,
   "metadata": {},
   "outputs": [
    {
     "data": {
      "text/plain": [
       "[1, 3, 5, 7, 9]"
      ]
     },
     "execution_count": 67,
     "metadata": {},
     "output_type": "execute_result"
    }
   ],
   "source": [
    "tek_sayilar3(1,2,3,4,5,6,7,8,9)"
   ]
  },
  {
   "cell_type": "code",
   "execution_count": 68,
   "metadata": {},
   "outputs": [
    {
     "data": {
      "text/plain": [
       "[1]"
      ]
     },
     "execution_count": 68,
     "metadata": {},
     "output_type": "execute_result"
    }
   ],
   "source": [
    "tek_sayilar3(1)"
   ]
  },
  {
   "cell_type": "code",
   "execution_count": 69,
   "metadata": {},
   "outputs": [
    {
     "data": {
      "text/plain": [
       "[]"
      ]
     },
     "execution_count": 69,
     "metadata": {},
     "output_type": "execute_result"
    }
   ],
   "source": [
    "tek_sayilar3()"
   ]
  },
  {
   "cell_type": "code",
   "execution_count": 70,
   "metadata": {},
   "outputs": [],
   "source": [
    "def ters_yazdir(* kelimeler):\n",
    "\n",
    "    liste=[]\n",
    "    liste.append(kelimeler[::-1])\n",
    "    return liste"
   ]
  },
  {
   "cell_type": "code",
   "execution_count": 71,
   "metadata": {},
   "outputs": [
    {
     "data": {
      "text/plain": [
       "[('mehmet', 'enes', 'pinar')]"
      ]
     },
     "execution_count": 71,
     "metadata": {},
     "output_type": "execute_result"
    }
   ],
   "source": [
    "ters_yazdir(\"pinar\",\"enes\",\"mehmet\")"
   ]
  },
  {
   "cell_type": "code",
   "execution_count": 72,
   "metadata": {},
   "outputs": [],
   "source": [
    "def ters_yazdir2(* kelimeler):\n",
    "\n",
    "    liste=[]\n",
    "    liste.append(list(kelimeler[::-1]))\n",
    "    return liste"
   ]
  },
  {
   "cell_type": "code",
   "execution_count": 73,
   "metadata": {},
   "outputs": [
    {
     "data": {
      "text/plain": [
       "[['mehmet', 'enes', 'pinar']]"
      ]
     },
     "execution_count": 73,
     "metadata": {},
     "output_type": "execute_result"
    }
   ],
   "source": [
    "ters_yazdir2(\"pinar\",\"enes\",\"mehmet\")"
   ]
  },
  {
   "cell_type": "code",
   "execution_count": 76,
   "metadata": {},
   "outputs": [],
   "source": [
    "def ters_yazdir3(* kelimeler):\n",
    "\n",
    "    liste=[]\n",
    "    for i in kelimeler:\n",
    "        liste.append(i[::-1])\n",
    "\n",
    "    return liste    "
   ]
  },
  {
   "cell_type": "code",
   "execution_count": 77,
   "metadata": {},
   "outputs": [
    {
     "data": {
      "text/plain": [
       "['ranip', 'sene', 'temhem']"
      ]
     },
     "execution_count": 77,
     "metadata": {},
     "output_type": "execute_result"
    }
   ],
   "source": [
    "ters_yazdir3(\"pinar\",\"enes\",\"mehmet\")"
   ]
  },
  {
   "cell_type": "code",
   "execution_count": 78,
   "metadata": {},
   "outputs": [],
   "source": [
    "def urunStogu(** kwargs):\n",
    "    for i,j in kwargs.items():\n",
    "        print(f\"urun : {i}, urun sayisi : {j}\")"
   ]
  },
  {
   "cell_type": "code",
   "execution_count": 79,
   "metadata": {},
   "outputs": [
    {
     "name": "stdout",
     "output_type": "stream",
     "text": [
      "urun : apple, urun sayisi : 3\n",
      "urun : orange, urun sayisi : 4\n",
      "urun : banana, urun sayisi : 5\n"
     ]
    }
   ],
   "source": [
    "urunStogu(apple=3,orange=4,banana=5)"
   ]
  },
  {
   "cell_type": "code",
   "execution_count": 80,
   "metadata": {},
   "outputs": [],
   "source": [
    "def urunStogu(** kwargs):\n",
    "    liste=[]\n",
    "\n",
    "    for i,j in kwargs.items():\n",
    "        if j==0:\n",
    "            liste.append((i,j))\n",
    "    return liste"
   ]
  },
  {
   "cell_type": "code",
   "execution_count": 82,
   "metadata": {},
   "outputs": [
    {
     "data": {
      "text/plain": [
       "[('orange', 0)]"
      ]
     },
     "execution_count": 82,
     "metadata": {},
     "output_type": "execute_result"
    }
   ],
   "source": [
    "urunStogu(apple=3,orange=0,banana=5)"
   ]
  },
  {
   "cell_type": "code",
   "execution_count": 83,
   "metadata": {},
   "outputs": [],
   "source": [
    "dict_1={\"kalem\":0,\"silgi\":10,\"defter\":5,\"kalemtras\":0}"
   ]
  },
  {
   "cell_type": "code",
   "execution_count": 86,
   "metadata": {},
   "outputs": [
    {
     "data": {
      "text/plain": [
       "[('kalem', 0), ('kalemtras', 0)]"
      ]
     },
     "execution_count": 86,
     "metadata": {},
     "output_type": "execute_result"
    }
   ],
   "source": [
    "urunStogu(** dict_1)"
   ]
  },
  {
   "cell_type": "code",
   "execution_count": 92,
   "metadata": {},
   "outputs": [],
   "source": [
    "def personel_age(** personal):\n",
    "\n",
    "    liste=[]\n",
    "\n",
    "    for i,j in personal.items():\n",
    "\n",
    "        if j>=35:\n",
    "\n",
    "            liste.append((i,j))\n",
    "\n",
    "    return liste       "
   ]
  },
  {
   "cell_type": "code",
   "execution_count": 93,
   "metadata": {},
   "outputs": [],
   "source": [
    "dict_2={\"Hikmet\":33,\"Ediz\":45,\"Sema\":21,\"Vahit\":35}"
   ]
  },
  {
   "cell_type": "code",
   "execution_count": 95,
   "metadata": {},
   "outputs": [
    {
     "data": {
      "text/plain": [
       "[('Ediz', 45), ('Vahit', 35)]"
      ]
     },
     "execution_count": 95,
     "metadata": {},
     "output_type": "execute_result"
    }
   ],
   "source": [
    "personel_age(**dict_2)"
   ]
  },
  {
   "cell_type": "code",
   "execution_count": null,
   "metadata": {},
   "outputs": [],
   "source": []
  },
  {
   "cell_type": "code",
   "execution_count": null,
   "metadata": {},
   "outputs": [],
   "source": []
  },
  {
   "cell_type": "code",
   "execution_count": null,
   "metadata": {},
   "outputs": [],
   "source": []
  }
 ],
 "metadata": {
  "kernelspec": {
   "display_name": "Python 3",
   "language": "python",
   "name": "python3"
  },
  "language_info": {
   "codemirror_mode": {
    "name": "ipython",
    "version": 3
   },
   "file_extension": ".py",
   "mimetype": "text/x-python",
   "name": "python",
   "nbconvert_exporter": "python",
   "pygments_lexer": "ipython3",
   "version": "3.10.11"
  },
  "orig_nbformat": 4
 },
 "nbformat": 4,
 "nbformat_minor": 2
}
